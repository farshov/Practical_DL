{
 "cells": [
  {
   "cell_type": "markdown",
   "metadata": {
    "id": "NqtXrZApBkM4"
   },
   "source": [
    "# Optimizing training and inference\n",
    "\n",
    "In this notebook, we will discuss different ways to reduce memory and compute usage during training and inference."
   ]
  },
  {
   "cell_type": "markdown",
   "metadata": {
    "id": "NEt8wg4JCQdm"
   },
   "source": [
    "## Prepare training script (1 point)\n",
    "\n",
    "When training large models, it is usually a best practice not to use Jupyter notebooks, but run a **separate script** for training which could have command-line flags for various hyperparameters and training modes. This is especially useful when you need to run multiple experiments simultaneously (e.g. on a cluster with task scheduler). Another advantage of this is that after training, the process will finish and free the resources for other users of a shared GPU.\n",
    "\n",
    "In this part, you will need to put all your code to train a model on Tiny ImageNet that you wrote for the previous task in `train.py`.\n",
    "\n",
    "You can then run your script from inside of this notebook like this:"
   ]
  },
  {
   "cell_type": "code",
   "execution_count": null,
   "metadata": {
    "colab": {
     "base_uri": "https://localhost:8080/"
    },
    "id": "6-TWiKq8H9yT",
    "outputId": "57316461-fa3b-4672-b743-2821f3c55f7d"
   },
   "outputs": [
    {
     "name": "stdout",
     "output_type": "stream",
     "text": [
      "/bin/bash: -c: line 0: syntax error near unexpected token `newline'\n",
      "/bin/bash: -c: line 0: `python3 train.py --flag --some_parameter <its value>'\n"
     ]
    }
   ],
   "source": [
    "!python3 train.py --flag --some_parameter <its value>"
   ]
  },
  {
   "cell_type": "markdown",
   "metadata": {
    "id": "OOSTcdGtMA6t"
   },
   "source": [
    "**Task** \n",
    "\n",
    "Write code for training with architecture from homework_part2\n",
    "\n",
    "**Requirements**\n",
    "* Optional arguments from command line such as batch size and number of epochs with built-in argparse\n",
    "* Modular structure - separate functions for creating data generator, building model and training \n"
   ]
  },
  {
   "cell_type": "markdown",
   "metadata": {
    "id": "Z-VM1JhmYPNB"
   },
   "source": [
    "Have written script"
   ]
  },
  {
   "cell_type": "markdown",
   "metadata": {
    "id": "tKPYZ3QLEqX8"
   },
   "source": [
    "## Profiling time (1 point)\n",
    "\n",
    "For the next tasks, you need to add measurements to your training loop. You can use [`perf_counter`](https://docs.python.org/3/library/time.html#time.perf_counter) for that:"
   ]
  },
  {
   "cell_type": "code",
   "execution_count": null,
   "metadata": {
    "id": "bSr-PyQNFkSC"
   },
   "outputs": [],
   "source": [
    "import time\n",
    "import numpy as np\n",
    "import torch"
   ]
  },
  {
   "cell_type": "code",
   "execution_count": null,
   "metadata": {
    "colab": {
     "base_uri": "https://localhost:8080/"
    },
    "id": "HMJMCGRKFYCc",
    "outputId": "f75c2c44-fcf5-4e0a-f9f4-6a143aa6227b"
   },
   "outputs": [
    {
     "name": "stdout",
     "output_type": "stream",
     "text": [
      "Matrix multiplication took %.3f seconds\n"
     ]
    }
   ],
   "source": [
    "x = np.random.randn(1000, 1000)\n",
    "y = np.random.randn(1000, 1000)\n",
    "\n",
    "start_counter = time.perf_counter()\n",
    "z = x @ y\n",
    "elapsed_time = time.perf_counter() - start_counter\n",
    "print(\"Matrix multiplication took %.3f seconds\".format(elapsed_time))"
   ]
  },
  {
   "cell_type": "markdown",
   "metadata": {
    "id": "FfhLeWjTGTpB"
   },
   "source": [
    "**Task**. You need to add the following measurements to your training script:\n",
    "* How much time a forward-backward pass takes for a single batch;\n",
    "* How much time an epoch takes."
   ]
  },
  {
   "cell_type": "markdown",
   "metadata": {
    "id": "ues4dz3YYTls"
   },
   "source": [
    "Added time measurements during training"
   ]
  },
  {
   "cell_type": "markdown",
   "metadata": {
    "id": "khDOTn_SHaND"
   },
   "source": [
    "## Profiling memory usage (1 point)\n",
    "\n",
    "**Task**. You need to measure the memory consumptions\n",
    "\n",
    "This section depends on whether you train on CPU or GPU.\n",
    "\n",
    "### If you train on CPU\n",
    "You can use GNU time to measure peak RAM usage of a script:"
   ]
  },
  {
   "cell_type": "code",
   "execution_count": null,
   "metadata": {
    "colab": {
     "base_uri": "https://localhost:8080/"
    },
    "id": "98xvXSjUIDzl",
    "outputId": "66193e62-5d91-43ff-9c1c-11f6186283c7"
   },
   "outputs": [
    {
     "name": "stdout",
     "output_type": "stream",
     "text": [
      "/bin/bash: /usr/bin/time: No such file or directory\n"
     ]
    }
   ],
   "source": [
    "!/usr/bin/time -lp python train.py"
   ]
  },
  {
   "cell_type": "markdown",
   "metadata": {
    "id": "v1ES2Pc9IlH5"
   },
   "source": [
    "**Maximum resident set size**  will show you the peak RAM usage in bytes after the script finishes."
   ]
  },
  {
   "cell_type": "markdown",
   "metadata": {
    "id": "uxla-iwAMA6v"
   },
   "source": [
    "**Note**. \n",
    "Imports also require memory, do the correction"
   ]
  },
  {
   "cell_type": "markdown",
   "metadata": {
    "id": "kq5lY5CKJHX1"
   },
   "source": [
    "### If you train on GPU\n",
    "\n",
    "Use [`torch.cuda.max_memory_allocated()`](https://pytorch.org/docs/stable/cuda.html#torch.cuda.max_memory_allocated) at the end of your script to show the maximum amount of memory in bytes used by all tensors."
   ]
  },
  {
   "cell_type": "code",
   "execution_count": null,
   "metadata": {
    "id": "fSQdauqLIkf1"
   },
   "outputs": [],
   "source": [
    "x = torch.randn(1000, 1000, 1000, device='cuda:0')\n",
    "print(f\"Peak memory usage by Pytorch tensors: {(torch.cuda.max_memory_allocated('cuda:0') / 1024**2):.2f} Mb\")"
   ]
  },
  {
   "cell_type": "markdown",
   "metadata": {
    "id": "6585NJ8uYmZV"
   },
   "source": [
    "Added measurements of memory consumtion to the training script"
   ]
  },
  {
   "cell_type": "markdown",
   "metadata": {
    "id": "M3RWHxYKBUys"
   },
   "source": [
    "## Gradient based techniques\n",
    "\n",
    "Modern architectures can potentially consume lots and lots of memory even for minibatch of several objects. To handle such cases here we will discuss two simple techniques.\n",
    "\n",
    "### Gradient Checkpointing (3 points)\n",
    "\n",
    "Checkpointing works by trading compute for memory. Rather than storing all intermediate activations of the entire computation graph for computing backward, the checkpointed part does not save intermediate activations, and instead recomputes them in backward pass. It can be applied on any part of a model.\n",
    "\n",
    "See [blogpost](https://medium.com/tensorflow/fitting-larger-networks-into-memory-583e3c758ff9) for kind introduction and different strategies or [article](https://arxiv.org/pdf/1604.06174.pdf) for not kind introduction.\n",
    "\n",
    "**Task**. Use [built-in checkpointing](https://pytorch.org/docs/stable/checkpoint.html), measure the difference in memory/compute.\n",
    "\n",
    "Run several experiments with different checkpointing strategies (e.g. if your model is a sequential convnet, or there are  large sequential parts in your model, you are able to vary [the number of sequential checkpointed segments](https://pytorch.org/docs/stable/checkpoint.html#torch.utils.checkpoint.checkpoint_sequential)).\n",
    "\n",
    "Visualize your results (in terms of time/memory consumption). Which checkpointing strategy do you think is the best one for this trade-off?\n",
    "\n",
    "**Requirements**. \n",
    "* Try several arrangements for checkpoints\n",
    "* Add the chekpointing as the optional flag into your script\n",
    "* Measure the difference in memory/compute between the different arrangements and baseline "
   ]
  },
  {
   "cell_type": "markdown",
   "metadata": {
    "id": "5SH6yw7ioMcy"
   },
   "source": [
    "#### Loading dataset for training"
   ]
  },
  {
   "cell_type": "code",
   "execution_count": 1,
   "metadata": {
    "colab": {
     "base_uri": "https://localhost:8080/"
    },
    "id": "A40ZoQuBn7h2",
    "outputId": "70476aa0-2361-455e-e3cf-ba9a7f97e7b0"
   },
   "outputs": [
    {
     "name": "stdout",
     "output_type": "stream",
     "text": [
      "Mounted at /content/drive\n"
     ]
    }
   ],
   "source": [
    "from google.colab import drive\n",
    "drive.mount('/content/drive')"
   ]
  },
  {
   "cell_type": "code",
   "execution_count": 2,
   "metadata": {
    "colab": {
     "base_uri": "https://localhost:8080/"
    },
    "id": "m3sKZksDn92z",
    "outputId": "abc7b176-5a22-46c5-b954-05bb46f2dc3c"
   },
   "outputs": [
    {
     "name": "stdout",
     "output_type": "stream",
     "text": [
      "/content/drive/MyDrive/shad/Practical_DL/homework02\n"
     ]
    }
   ],
   "source": [
    "cd drive/MyDrive/shad/Practical_DL/homework02/"
   ]
  },
  {
   "cell_type": "code",
   "execution_count": 3,
   "metadata": {
    "id": "ieOBA1kjoEnh"
   },
   "outputs": [],
   "source": [
<<<<<<< HEAD
    "from tiny_img import download_tinyImg200, fix_test_data\n",
=======
    "effective_batch_size = 1024\n",
    "loader_batch_size = 32\n",
    "batches_per_update = effective_batch_size // loader_batch_size # Updating weights after 8 forward passes\n",
>>>>>>> 76c067db750502f90b287eda800cda6107dc15cd
    "\n",
    "import numpy as np\n",
    "import matplotlib.pyplot as plt\n",
    "%matplotlib inline\n",
    "\n",
    "import torch, torch.nn as nn, torch.nn.functional as F\n",
    "from torch.utils.data import Dataset, DataLoader\n",
    "import torchvision, torchvision.transforms as transforms\n",
    "from tqdm import tqdm\n",
    "from IPython.display import clear_output\n",
    "\n",
    "import matplotlib.pyplot as plt\n",
    "\n",
    "# Uncomment this to disable \"Skipping walk through <class 'list'>\" warnings in DataSphere's env\n",
    "# %enable_full_walk"
   ]
  },
  {
   "cell_type": "code",
   "execution_count": 4,
   "metadata": {
    "colab": {
     "base_uri": "https://localhost:8080/"
    },
    "id": "Ol64ntlZoGJl",
    "outputId": "db4b74d6-a2c8-4591-8b50-a02190057dc1"
   },
   "outputs": [
    {
     "name": "stdout",
     "output_type": "stream",
     "text": [
      "/root\n"
     ]
    }
   ],
   "source": [
    "cd"
   ]
  },
  {
   "cell_type": "code",
   "execution_count": 5,
   "metadata": {
    "colab": {
     "base_uri": "https://localhost:8080/"
    },
    "id": "bCgC4zQqoHFJ",
    "outputId": "828c72cf-5ea0-4d00-9385-029ca73c470c"
   },
   "outputs": [
    {
     "name": "stdout",
     "output_type": "stream",
     "text": [
      "./tiny-imagenet-200.zip\n"
     ]
    }
   ],
   "source": [
    "data_path = '.'\n",
    "download_tinyImg200(data_path)\n",
    "fix_test_data(data_path)"
   ]
  },
  {
   "cell_type": "markdown",
   "metadata": {
    "id": "J7ZGJWhpoZG5"
   },
   "source": [
    "#### Launching experiments"
   ]
  },
  {
   "cell_type": "markdown",
   "metadata": {
    "id": "Vm-CdhBuomez"
   },
   "source": [
    "Количество слоев в моей сетке: 22 ($\\sqrt{22}=4.69$), поэтому количество сегментов я буду варьировать от 1 до 22"
   ]
  },
  {
   "cell_type": "markdown",
   "metadata": {
    "id": "HXtK2VgFbuct"
   },
   "source": [
    "### Bath size = 512"
   ]
  },
  {
   "cell_type": "code",
   "execution_count": 6,
   "metadata": {
    "colab": {
     "base_uri": "https://localhost:8080/"
    },
    "id": "sosTmK8JbxNK",
    "outputId": "d2b6084a-9f9d-4f6e-d933-3467083e5245"
   },
   "outputs": [
    {
     "name": "stdout",
     "output_type": "stream",
     "text": [
      "device: cuda\n",
      "Overall time = 4.31316172 minutes, num epochs = 5\n",
      "Number checkpoint segments = None\n",
      "mean epoch time = 49.64145489 seconds, mean_batch time = 0.01252996 seconds\n",
      "Peak memory usage by Pytorch tensors: 5662.11 Mb\n",
      "Validation set accuracy: 0.06064999848604202\n",
      "Test set accuracy: 0.0632999986410141\n",
      "training is finished\n",
      "________________\n",
      "\n"
     ]
    }
   ],
   "source": [
    "!python train_checkpoints.py 'tiny-imagenet-200/train' 'tiny-imagenet-200/val' -batch=512 -epochs=5"
   ]
  },
  {
   "cell_type": "code",
   "execution_count": 7,
   "metadata": {
    "colab": {
     "base_uri": "https://localhost:8080/"
    },
    "id": "qbwhLcvEmVUU",
    "outputId": "218f7091-a432-4561-ba31-9821fb372638"
   },
   "outputs": [
    {
     "name": "stdout",
     "output_type": "stream",
     "text": [
      "device: cuda\n",
      "Overall time = 4.27293006 minutes, num epochs = 5\n",
      "Number checkpoint segments = 1\n",
      "mean epoch time = 50.63709602 seconds, mean_batch time = 0.01294252 seconds\n",
      "Peak memory usage by Pytorch tensors: 5662.11 Mb\n",
      "Validation set accuracy: 0.0868000015616417\n",
      "Test set accuracy: 0.09920000284910202\n",
      "training is finished\n",
      "________________\n",
      "\n"
     ]
    }
   ],
   "source": [
    "!python train_checkpoints.py 'tiny-imagenet-200/train' 'tiny-imagenet-200/val' -batch=512 -epochs=5 --num_checkpoint_parts=1"
   ]
  },
  {
   "cell_type": "code",
   "execution_count": 8,
   "metadata": {
    "colab": {
     "base_uri": "https://localhost:8080/"
    },
    "id": "QlabRep1b3r8",
    "outputId": "13edd941-88e7-45bc-e17d-1c38bbc51d08"
   },
   "outputs": [
    {
     "name": "stdout",
     "output_type": "stream",
     "text": [
      "device: cuda\n",
      "Overall time = 4.64814611 minutes, num epochs = 5\n",
      "Number checkpoint segments = 2\n",
      "mean epoch time = 55.1486229 seconds, mean_batch time = 0.01408435 seconds\n",
      "Peak memory usage by Pytorch tensors: 5919.11 Mb\n",
      "Validation set accuracy: 0.08320000022649765\n",
      "Test set accuracy: 0.09830000251531601\n",
      "training is finished\n",
      "________________\n",
      "\n"
     ]
    }
   ],
   "source": [
    "!python train_checkpoints.py 'tiny-imagenet-200/train' 'tiny-imagenet-200/val' -batch=512 -epochs=5 --num_checkpoint_parts=2"
   ]
  },
  {
   "cell_type": "code",
   "execution_count": 9,
   "metadata": {
    "colab": {
     "base_uri": "https://localhost:8080/"
    },
    "id": "6qS4eTINb69O",
    "outputId": "a04bf2f4-d934-4a89-fa05-ec66363f32a2"
   },
   "outputs": [
    {
     "name": "stdout",
     "output_type": "stream",
     "text": [
      "device: cuda\n",
      "Overall time = 4.75829063 minutes, num epochs = 5\n",
      "Number checkpoint segments = 3\n",
      "mean epoch time = 56.45899828 seconds, mean_batch time = 0.01426723 seconds\n",
      "Peak memory usage by Pytorch tensors: 4512.02 Mb\n",
      "Validation set accuracy: 0.07129999995231628\n",
      "Test set accuracy: 0.07150000333786011\n",
      "training is finished\n",
      "________________\n",
      "\n"
     ]
    }
   ],
   "source": [
    "!python train_checkpoints.py 'tiny-imagenet-200/train' 'tiny-imagenet-200/val' -batch=512 -epochs=5 --num_checkpoint_parts=3"
   ]
  },
  {
   "cell_type": "code",
   "execution_count": 10,
   "metadata": {
    "colab": {
     "base_uri": "https://localhost:8080/"
    },
    "id": "sWIzvHMAb9g0",
    "outputId": "c1380db3-35fb-403f-fd1a-dd87cdf764e0"
   },
   "outputs": [
    {
     "name": "stdout",
     "output_type": "stream",
     "text": [
      "device: cuda\n",
      "Overall time = 4.74918829 minutes, num epochs = 5\n",
      "Number checkpoint segments = 4\n",
      "mean epoch time = 56.35815787 seconds, mean_batch time = 0.01431734 seconds\n",
      "Peak memory usage by Pytorch tensors: 4254.77 Mb\n",
      "Validation set accuracy: 0.06400000303983688\n",
      "Test set accuracy: 0.07000000029802322\n",
      "training is finished\n",
      "________________\n",
      "\n"
     ]
    }
   ],
   "source": [
    "!python train_checkpoints.py 'tiny-imagenet-200/train' 'tiny-imagenet-200/val' -batch=512 -epochs=5 --num_checkpoint_parts=4"
   ]
  },
  {
   "cell_type": "code",
   "execution_count": 11,
   "metadata": {
    "colab": {
     "base_uri": "https://localhost:8080/"
    },
    "id": "kWdMA2hyb_Bi",
    "outputId": "89010d27-a30d-4843-cf92-0777fed4480d"
   },
   "outputs": [
    {
     "name": "stdout",
     "output_type": "stream",
     "text": [
      "device: cuda\n",
      "Overall time = 4.76237942 minutes, num epochs = 5\n",
      "Number checkpoint segments = 5\n",
      "mean epoch time = 56.51517525 seconds, mean_batch time = 0.01452939 seconds\n",
      "Peak memory usage by Pytorch tensors: 3388.98 Mb\n",
      "Validation set accuracy: 0.08914999663829803\n",
      "Test set accuracy: 0.09889999777078629\n",
      "training is finished\n",
      "________________\n",
      "\n"
     ]
    }
   ],
   "source": [
    "!python train_checkpoints.py 'tiny-imagenet-200/train' 'tiny-imagenet-200/val' -batch=512 -epochs=5 --num_checkpoint_parts=5"
   ]
  },
  {
   "cell_type": "code",
   "execution_count": 12,
   "metadata": {
    "colab": {
     "base_uri": "https://localhost:8080/"
    },
    "id": "P9J-lWUxb_4d",
    "outputId": "d5c4ab4c-2fb5-4c57-82a0-defb3c2f7f53"
   },
   "outputs": [
    {
     "name": "stdout",
     "output_type": "stream",
     "text": [
      "device: cuda\n",
      "Overall time = 4.74567347 minutes, num epochs = 5\n",
      "Number checkpoint segments = 6\n",
      "mean epoch time = 56.32653567 seconds, mean_batch time = 0.01538595 seconds\n",
      "Peak memory usage by Pytorch tensors: 4127.73 Mb\n",
      "Validation set accuracy: 0.09520000219345093\n",
      "Test set accuracy: 0.11249999701976776\n",
      "training is finished\n",
      "________________\n",
      "\n"
     ]
    }
   ],
   "source": [
    "!python train_checkpoints.py 'tiny-imagenet-200/train' 'tiny-imagenet-200/val' -batch=512 -epochs=5 --num_checkpoint_parts=6"
   ]
  },
  {
   "cell_type": "code",
   "execution_count": 13,
   "metadata": {
    "colab": {
     "base_uri": "https://localhost:8080/"
    },
    "id": "P4k5h-qIcA4P",
    "outputId": "eddbb21d-73df-4d16-bc82-51a3cf81869a"
   },
   "outputs": [
    {
     "name": "stdout",
     "output_type": "stream",
     "text": [
      "device: cuda\n",
      "Overall time = 4.89825423 minutes, num epochs = 5\n",
      "Number checkpoint segments = 7\n",
      "mean epoch time = 58.14697368 seconds, mean_batch time = 0.01542601 seconds\n",
      "Peak memory usage by Pytorch tensors: 4126.11 Mb\n",
      "Validation set accuracy: 0.07855000346899033\n",
      "Test set accuracy: 0.09059999883174896\n",
      "training is finished\n",
      "________________\n",
      "\n"
     ]
    }
   ],
   "source": [
    "!python train_checkpoints.py 'tiny-imagenet-200/train' 'tiny-imagenet-200/val' -batch=512 -epochs=5 --num_checkpoint_parts=7"
   ]
  },
  {
   "cell_type": "code",
   "execution_count": 14,
   "metadata": {
    "colab": {
     "base_uri": "https://localhost:8080/"
    },
    "id": "96FAS5H3cEFo",
    "outputId": "50e471fa-336b-45ba-b4fc-e9aef4dbb60b"
   },
   "outputs": [
    {
     "name": "stdout",
     "output_type": "stream",
     "text": [
      "device: cuda\n",
      "Overall time = 4.7538753 minutes, num epochs = 5\n",
      "Number checkpoint segments = 9\n",
      "mean epoch time = 56.41251342 seconds, mean_batch time = 0.01638023 seconds\n",
      "Peak memory usage by Pytorch tensors: 3998.11 Mb\n",
      "Validation set accuracy: 0.07744999974966049\n",
      "Test set accuracy: 0.08829999715089798\n",
      "training is finished\n",
      "________________\n",
      "\n"
     ]
    }
   ],
   "source": [
    "!python train_checkpoints.py 'tiny-imagenet-200/train' 'tiny-imagenet-200/val' -batch=512 -epochs=5 --num_checkpoint_parts=9"
   ]
  },
  {
   "cell_type": "code",
   "execution_count": 15,
   "metadata": {
    "colab": {
     "base_uri": "https://localhost:8080/"
    },
    "id": "cadOtikccFSs",
    "outputId": "e5aaa990-94e5-4c32-a752-bc3fc2953ec4"
   },
   "outputs": [
    {
     "name": "stdout",
     "output_type": "stream",
     "text": [
      "device: cuda\n",
      "Overall time = 4.65438956 minutes, num epochs = 5\n",
      "Number checkpoint segments = 13\n",
      "mean epoch time = 55.2145064 seconds, mean_batch time = 0.01838611 seconds\n",
      "Peak memory usage by Pytorch tensors: 5406.86 Mb\n",
      "Validation set accuracy: 0.07880000025033951\n",
      "Test set accuracy: 0.08969999849796295\n",
      "training is finished\n",
      "________________\n",
      "\n"
     ]
    }
   ],
   "source": [
    "!python train_checkpoints.py 'tiny-imagenet-200/train' 'tiny-imagenet-200/val' -batch=512 -epochs=5 --num_checkpoint_parts=13"
   ]
  },
  {
   "cell_type": "code",
   "execution_count": 16,
   "metadata": {
    "colab": {
     "base_uri": "https://localhost:8080/"
    },
    "id": "-W08z_pWcFvb",
    "outputId": "8274bcfd-5921-494c-be52-286c37e37daa"
   },
   "outputs": [
    {
     "name": "stdout",
     "output_type": "stream",
     "text": [
      "device: cuda\n",
      "Overall time = 4.75079236 minutes, num epochs = 5\n",
      "Number checkpoint segments = 18\n",
      "mean epoch time = 56.38209136 seconds, mean_batch time = 0.02085107 seconds\n",
      "Peak memory usage by Pytorch tensors: 5406.48 Mb\n",
      "Validation set accuracy: 0.07150000333786011\n",
      "Test set accuracy: 0.07519999891519547\n",
      "training is finished\n",
      "________________\n",
      "\n"
     ]
    }
   ],
   "source": [
    "!python train_checkpoints.py 'tiny-imagenet-200/train' 'tiny-imagenet-200/val' -batch=512 -epochs=5 --num_checkpoint_parts=18"
   ]
  },
  {
   "cell_type": "code",
   "execution_count": 17,
   "metadata": {
    "colab": {
     "base_uri": "https://localhost:8080/"
    },
    "id": "lnKTNUxNcGSo",
    "outputId": "c87f9552-1787-4ebc-c0d5-237fc8cf46ee"
   },
   "outputs": [
    {
     "name": "stdout",
     "output_type": "stream",
     "text": [
      "device: cuda\n",
      "Overall time = 4.88805618 minutes, num epochs = 5\n",
      "Number checkpoint segments = 20\n",
      "mean epoch time = 58.0321998 seconds, mean_batch time = 0.02190186 seconds\n",
      "Peak memory usage by Pytorch tensors: 5406.48 Mb\n",
      "Validation set accuracy: 0.0868000015616417\n",
      "Test set accuracy: 0.08980000019073486\n",
      "training is finished\n",
      "________________\n",
      "\n"
     ]
    }
   ],
   "source": [
    "!python train_checkpoints.py 'tiny-imagenet-200/train' 'tiny-imagenet-200/val' -batch=512 -epochs=5 --num_checkpoint_parts=20"
   ]
  },
  {
   "cell_type": "markdown",
   "metadata": {
    "id": "nS9rqYhHh7hk"
   },
   "source": [
    "### Visualize results"
   ]
  },
  {
   "cell_type": "code",
   "execution_count": null,
   "metadata": {
    "id": "sN2Rlnl34hRJ"
   },
   "outputs": [],
   "source": [
    "import matplotlib.pyplot as plt"
   ]
  },
  {
   "cell_type": "markdown",
   "metadata": {
    "id": "u2aV1iOD5kh4"
   },
   "source": [
    " Здесь я просто переписал выводы ячеек иссполнения скрипта. Сорян, что так, не продумал этот момент заранее."
   ]
  },
  {
   "cell_type": "code",
   "execution_count": 54,
   "metadata": {
    "id": "ftT0NddPh-Cg"
   },
   "outputs": [],
   "source": [
    "num_segments = [1, 2, 3, 4, 5, 6, 7, 9, 13, 18, 20]\n",
    "\n",
    "test_accuracy = [0.09920000284910202, 0.09830000251531601, 0.07150000333786011,\n",
    "                 0.07000000029802322, 0.09889999777078629, 0.11249999701976776, \n",
    "                 0.09059999883174896, 0.08829999715089798, 0.08969999849796295, \n",
    "                 0.07519999891519547, 0.08980000019073486]\n",
    "\n",
    "val_accuracy = [0.0868000015616417, 0.08320000022649765, 0.07129999995231628, \n",
    "                0.06400000303983688, 0.08914999663829803, 0.09520000219345093, \n",
    "                0.07855000346899033, 0.07744999974966049, 0.07880000025033951, \n",
    "                0.07150000333786011, 0.0868000015616417]\n",
    "\n",
    "memory = [5662.11, 5919.11, 4512.02, 4254.77, 3388.98, \n",
    "          4127.73, 4126.11, 3998.11, 5406.86, 5406.48, 5406.48]\n",
    "\n",
    "batch_time = [0.01294252, 0.01408435, 0.01426723, 0.01431734, 0.01452939, \n",
    "              0.01538595, 0.01542601, 0.01638023, 0.01838611, 0.02085107, \n",
    "              0.02190186]\n",
    "\n",
    "epoch_time = [50.63709602, 55.1486229, 56.45899828, 56.35815787, \n",
    "              56.51517525, 56.32653567, 58.14697368, 56.41251342, \n",
    "              55.2145064, 56.38209136, 58.0321998]"
   ]
  },
  {
   "cell_type": "code",
   "execution_count": 59,
   "metadata": {
    "colab": {
     "base_uri": "https://localhost:8080/",
     "height": 628
    },
    "id": "xWaW95x44fTW",
    "outputId": "ce24588f-39fa-43ca-9e3b-2ba704747a21"
   },
   "outputs": [
    {
     "data": {
      "image/png": "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\n",
      "text/plain": [
       "<Figure size 1224x324 with 3 Axes>"
      ]
     },
     "metadata": {
      "needs_background": "light",
      "tags": []
     },
     "output_type": "display_data"
    },
    {
     "data": {
      "image/png": "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\n",
      "text/plain": [
       "<Figure size 1224x324 with 2 Axes>"
      ]
     },
     "metadata": {
      "needs_background": "light",
      "tags": []
     },
     "output_type": "display_data"
    }
   ],
   "source": [
    "plt.figure(figsize=(17, 4.5))\n",
    "\n",
    "plt.subplot(131)\n",
    "plt.plot(num_segments, memory)\n",
    "plt.xlabel(\"Num segments\")\n",
    "plt.ylabel(\"Max gpu usage (Mb)\")\n",
    "plt.title(\"Memory consumption\")\n",
    "plt.grid()\n",
    "\n",
    "plt.subplot(132)\n",
    "plt.plot(num_segments, batch_time, color=\"r\")\n",
    "plt.xlabel(\"Num segments\")\n",
    "plt.ylabel(\"Avg batch time (sec)\")\n",
    "plt.title(\"Forward-backward pass batch time (without loading data)\")\n",
    "plt.grid()\n",
    "\n",
    "plt.subplot(133)\n",
    "plt.plot(num_segments, epoch_time, color=\"g\")\n",
    "plt.xlabel(\"Num segments\")\n",
    "plt.ylabel(\"Avg epoch time (sec)\")\n",
    "plt.title(\"Average epoch time\")\n",
    "plt.grid()\n",
    "\n",
    "plt.show()\n",
    "\n",
    "plt.figure(figsize=(17, 4.5))\n",
    "\n",
    "plt.subplot(121)\n",
    "plt.plot(num_segments, test_accuracy, color=\"y\")\n",
    "plt.xlabel(\"Num segments\")\n",
    "plt.ylabel(\"Accuracy\")\n",
    "plt.title(\"Test accuracy after 5 epochs\")\n",
    "plt.grid()\n",
    "\n",
    "plt.subplot(122)\n",
    "plt.plot(num_segments, val_accuracy, color=\"r\")\n",
    "plt.xlabel(\"Num segments\")\n",
    "plt.ylabel(\"Accuracy\")\n",
    "plt.title(\"Val accuracy after 5 epochs\")\n",
    "plt.grid()\n",
    "\n",
    "plt.show()"
   ]
  },
  {
   "cell_type": "markdown",
   "metadata": {
    "id": "OD06vSri4j6n"
   },
   "source": [
    "__Выводы:__ Если говорить, про трейд-офф времени/памяти, то очень выгодно выделяется как раз-таки точка 5. Собственно это значение и является рекомендованным в статье\n",
    "\n",
    "Странно, что время прохода forward-backward pass по батчу растет с ростом количества сегментов, так как вместе с этим уменьшая количество выходов, которые надо пересчитать. \n",
    "\n",
    "Видно, что время эпохи сильно не меняется, в то время как среднее время непосредственно forward-backward pass батча без подгрузки данных увеличивается. Мне кажется, что это значит, что боттлнек заклюбчается в подгрузке данных. Возможно, если бы мы имели дело с более жирной моделью, то основная часть времени тратилась на исполнение, в таком случае время эпохи бы могло поменяться.\n",
    "\n",
    "Еще есть предположение, что такое странное поведение на графиках обучсловлено особенностями реализации торчевого checkpoint_sequential. Однако свою функцию ему все-таки удается реализовать -- количество потребляемой памяти действительно можно уменьшить, не сильно потеряв во времени."
   ]
  },
  {
   "cell_type": "markdown",
   "metadata": {
    "id": "mjY8LR_GQbTV"
   },
   "source": [
    "### Accumulating gradient for large batches (3 points)\n",
    "We can increase the effective batch size by simply accumulating gradients over multiple forward passes. Note that `loss.backward()` simply adds the computed gradient to `tensor.grad`, so we can call this method multiple times before actually taking an optimizer step. However, this approach might be a little tricky to combine with batch normalization. Do you see why?"
   ]
  },
  {
   "cell_type": "code",
   "execution_count": null,
   "metadata": {
    "id": "qbbbO7V0QeGT"
   },
   "outputs": [],
   "source": [
    "effective_batch_size = 1024\n",
    "loader_batch_size = 32\n",
    "batches_per_update = effective_batch_size / loader_batch_size # Updating weights after 8 forward passes\n",
    "\n",
    "dataloader = DataLoader(dataset, batch_size=loader_batch_size)\n",
    "\n",
    "optimizer.zero_grad()\n",
    "\n",
    "for batch_i, (batch_X, batch_y) in enumerate(dataloader):\n",
    "    l = loss(model(batch_X), batch_y)\n",
    "    l.backward() # Adds gradients\n",
    "  \n",
    "    if (batch_i + 1) % batches_per_update == 0:\n",
    "        optimizer.step()\n",
    "        optimizer.zero_grad()"
   ]
  },
  {
   "cell_type": "markdown",
   "metadata": {
    "id": "ZqxvZWH9Uxtq"
   },
   "source": [
    "**Task**. Explore the trade-off between computation time and memory usage while maintaining the same effective batch size. By effective batch size we mean the number of objects over which the loss is computed before taking a gradient step.\n",
    "\n",
    "**Requirements**\n",
    "\n",
    "* Compare compute between accumulating gradient and gradient checkpointing with similar memory consumptions\n",
    "* Incorporate gradient accumulation into your script with optional argument"
   ]
  },
  {
   "cell_type": "markdown",
   "metadata": {
    "id": "YI_9XZDTmvWS"
   },
   "source": [
    "#### I will keep effective batch size 512 during all experiments, train_accumulating.py is version of previous train_checkpoint.py with added grdient accumulating"
   ]
  },
  {
   "cell_type": "code",
   "execution_count": 72,
   "metadata": {
    "colab": {
     "base_uri": "https://localhost:8080/"
    },
    "id": "P5UYD1xSk5lZ",
    "outputId": "da37d2d7-4b8c-41eb-f0ba-8e53213f861d"
   },
   "outputs": [
    {
     "name": "stdout",
     "output_type": "stream",
     "text": [
      "device: cuda\n",
      "Overall time = 5.83351946 minutes, num epochs = 7\n",
      "Number checkpoint segments = None\n",
      "mean epoch time = 49.55761559 seconds, mean_batch time = 0.00876067 seconds\n",
      "Peak memory usage by Pytorch tensors: 5662.11 Mb\n",
      "Validation set accuracy: 0.09314999729394913\n",
      "Test set accuracy: 0.0966000035405159\n",
      "training is finished\n",
      "________________\n",
      "\n"
     ]
    }
   ],
   "source": [
    "!python train_accumulating.py 'tiny-imagenet-200/train' 'tiny-imagenet-200/val' -batch=512 -epochs=7 --num_forward_passes=1"
   ]
  },
  {
   "cell_type": "code",
   "execution_count": 66,
   "metadata": {
    "colab": {
     "base_uri": "https://localhost:8080/"
    },
    "id": "h4Ecj8QWlfmQ",
    "outputId": "2a2d6da4-0364-497a-d157-785eeb89491f"
   },
   "outputs": [
    {
     "name": "stdout",
     "output_type": "stream",
     "text": [
      "device: cuda\n",
      "Overall time = 5.84330926 minutes, num epochs = 7\n",
      "Number checkpoint segments = None\n",
      "mean epoch time = 49.63005318 seconds, mean_batch time = 0.12232093 seconds\n",
      "Peak memory usage by Pytorch tensors: 3234.54 Mb\n",
      "Validation set accuracy: 0.10954999923706055\n",
      "Test set accuracy: 0.14270000159740448\n",
      "training is finished\n",
      "________________\n",
      "\n"
     ]
    }
   ],
   "source": [
    "!python train_accumulating.py 'tiny-imagenet-200/train' 'tiny-imagenet-200/val' -batch=256 -epochs=7 --num_forward_passes=2"
   ]
  },
  {
   "cell_type": "code",
   "execution_count": 67,
   "metadata": {
    "colab": {
     "base_uri": "https://localhost:8080/"
    },
    "id": "LCG6ijwmlk_r",
    "outputId": "27e6ac70-f575-4fe7-f84b-3906f1e7fdb4"
   },
   "outputs": [
    {
     "name": "stdout",
     "output_type": "stream",
     "text": [
      "device: cuda\n",
      "Overall time = 5.94171382 minutes, num epochs = 7\n",
      "Number checkpoint segments = None\n",
      "mean epoch time = 50.47876482 seconds, mean_batch time = 0.12283581 seconds\n",
      "Peak memory usage by Pytorch tensors: 2020.94 Mb\n",
      "Validation set accuracy: 0.10445000231266022\n",
      "Test set accuracy: 0.11569999903440475\n",
      "training is finished\n",
      "________________\n",
      "\n"
     ]
    }
   ],
   "source": [
    "!python train_accumulating.py 'tiny-imagenet-200/train' 'tiny-imagenet-200/val' -batch=128 -epochs=7 --num_forward_passes=4"
   ]
  },
  {
   "cell_type": "code",
   "execution_count": 68,
   "metadata": {
    "colab": {
     "base_uri": "https://localhost:8080/"
    },
    "id": "D6aKr7gclm5H",
    "outputId": "5f7a04c6-9af5-4dbe-b8d7-a0ae96e14efe"
   },
   "outputs": [
    {
     "name": "stdout",
     "output_type": "stream",
     "text": [
      "device: cuda\n",
      "Overall time = 6.20515137 minutes, num epochs = 7\n",
      "Number checkpoint segments = None\n",
      "mean epoch time = 52.73298343 seconds, mean_batch time = 0.15224993 seconds\n",
      "Peak memory usage by Pytorch tensors: 1388.66 Mb\n",
      "Validation set accuracy: 0.10830000042915344\n",
      "Test set accuracy: 0.12229999899864197\n",
      "training is finished\n",
      "________________\n",
      "\n"
     ]
    }
   ],
   "source": [
    "!python train_accumulating.py 'tiny-imagenet-200/train' 'tiny-imagenet-200/val' -batch=64 -epochs=7 --num_forward_passes=8"
   ]
  },
  {
   "cell_type": "code",
   "execution_count": 69,
   "metadata": {
    "colab": {
     "base_uri": "https://localhost:8080/"
    },
    "id": "WxrJ6hQrlpUl",
    "outputId": "e0db2c60-5839-4a87-8f51-8adb59fd9a0f"
   },
   "outputs": [
    {
     "name": "stdout",
     "output_type": "stream",
     "text": [
      "device: cuda\n",
      "Overall time = 6.75920931 minutes, num epochs = 7\n",
      "Number checkpoint segments = None\n",
      "mean epoch time = 57.48814309 seconds, mean_batch time = 0.21174827 seconds\n",
      "Peak memory usage by Pytorch tensors: 1162.64 Mb\n",
      "Validation set accuracy: 0.10419999808073044\n",
      "Test set accuracy: 0.11309999972581863\n",
      "training is finished\n",
      "________________\n",
      "\n"
     ]
    }
   ],
   "source": [
    "!python train_accumulating.py 'tiny-imagenet-200/train' 'tiny-imagenet-200/val' -batch=32 -epochs=7 --num_forward_passes=16"
   ]
  },
  {
   "cell_type": "code",
   "execution_count": 70,
   "metadata": {
    "colab": {
     "base_uri": "https://localhost:8080/"
    },
    "id": "l6bSeI_PlrKh",
    "outputId": "49ab972f-1170-48e0-9b6a-c34a7d592215"
   },
   "outputs": [
    {
     "name": "stdout",
     "output_type": "stream",
     "text": [
      "device: cuda\n",
      "Overall time = 8.39025469 minutes, num epochs = 7\n",
      "Number checkpoint segments = None\n",
      "mean epoch time = 71.46533309 seconds, mean_batch time = 0.34966998 seconds\n",
      "Peak memory usage by Pytorch tensors: 1063.35 Mb\n",
      "Validation set accuracy: 0.1005999967455864\n",
      "Test set accuracy: 0.1216999962925911\n",
      "training is finished\n",
      "________________\n",
      "\n"
     ]
    }
   ],
   "source": [
    "!python train_accumulating.py 'tiny-imagenet-200/train' 'tiny-imagenet-200/val' -batch=16 -epochs=7 --num_forward_passes=32"
   ]
  },
  {
   "cell_type": "code",
   "execution_count": 71,
   "metadata": {
    "colab": {
     "base_uri": "https://localhost:8080/"
    },
    "id": "5AaKlhdO1faX",
    "outputId": "1031e8b1-8236-4963-9170-0db6e3819017"
   },
   "outputs": [
    {
     "name": "stdout",
     "output_type": "stream",
     "text": [
      "device: cuda\n",
      "Overall time = 12.22982712 minutes, num epochs = 7\n",
      "Number checkpoint segments = None\n",
      "mean epoch time = 104.37469879 seconds, mean_batch time = 0.570207 seconds\n",
      "Peak memory usage by Pytorch tensors: 1062.85 Mb\n",
      "Validation set accuracy: 0.0835999995470047\n",
      "Test set accuracy: 0.08760000020265579\n",
      "training is finished\n",
      "________________\n",
      "\n"
     ]
    }
   ],
   "source": [
    "!python train_accumulating.py 'tiny-imagenet-200/train' 'tiny-imagenet-200/val' -batch=8 -epochs=7 --num_forward_passes=64"
   ]
  },
  {
   "cell_type": "markdown",
   "metadata": {
    "id": "0Y6O4K1zBjlu"
   },
   "source": [
    "### Visualize results"
   ]
  },
  {
   "cell_type": "code",
   "execution_count": 73,
   "metadata": {
    "id": "J7QKH5gfBYtP"
   },
   "outputs": [],
   "source": [
    "batches_per_update = [512 // 512, 512 // 256, 512 // 128, 512 // 64,\n",
    "                      512 // 32, 512 // 16, 512 // 8]\n",
    "\n",
    "test_accuracy = [0.09660000354051593, 0.14270000159740448, 0.11569999903440475,\n",
    "                 0.12229999899864197, 0.11309999972581863, 0.1216999962925911,\n",
    "                 0.08760000020265579, \n",
    "                 ]\n",
    "\n",
    "val_accuracy = [0.09314999729394913, 0.10954999923706055, 0.10445000231266022,\n",
    "                0.10830000042915344, 0.10419999808073044, 0.1005999967455864,\n",
    "                0.0835999995470047\n",
    "                ]\n",
    "\n",
    "memory = [5662.11, 3234.54, 2020.94, 1388.66, 1162.64, 1063.35, 1062.85]\n",
    "\n",
    "batch_time = [0.00876067, 0.12232093, 0.12283581, \n",
    "              0.15224993, 0.21174827, 0.34966998, 0.570207]\n",
    "\n",
    "epoch_time = [49.55761559, 49.63005318, 50.47876482, 52.73298343, \n",
    "              57.48814309, 71.46533309, 104.37469879]"
   ]
  },
  {
   "cell_type": "code",
   "execution_count": 74,
   "metadata": {
    "colab": {
     "base_uri": "https://localhost:8080/",
     "height": 628
    },
    "id": "C9W3NMdFBYCK",
    "outputId": "903c12aa-eb7a-4b72-e86b-66954be7713f"
   },
   "outputs": [
    {
     "data": {
      "image/png": "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\n",
      "text/plain": [
       "<Figure size 1224x324 with 3 Axes>"
      ]
     },
     "metadata": {
      "needs_background": "light",
      "tags": []
     },
     "output_type": "display_data"
    },
    {
     "data": {
      "image/png": "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\n",
      "text/plain": [
       "<Figure size 1224x324 with 2 Axes>"
      ]
     },
     "metadata": {
      "needs_background": "light",
      "tags": []
     },
     "output_type": "display_data"
    }
   ],
   "source": [
    "plt.figure(figsize=(17, 4.5))\n",
    "\n",
    "plt.subplot(131)\n",
    "plt.plot(batches_per_update, memory)\n",
    "plt.xlabel(\"Batches per update\")\n",
    "plt.ylabel(\"Max gpu usage (Mb)\")\n",
    "plt.title(\"Memory consumption\")\n",
    "plt.grid()\n",
    "\n",
    "plt.subplot(132)\n",
    "plt.plot(batches_per_update, batch_time, color=\"r\")\n",
    "plt.xlabel(\"Batches per update\")\n",
    "plt.ylabel(\"Avg batch time (sec)\")\n",
    "plt.title(\"Forward-backward pass batch time (without loading data)\")\n",
    "plt.grid()\n",
    "\n",
    "plt.subplot(133)\n",
    "plt.plot(batches_per_update, epoch_time, color=\"g\")\n",
    "plt.xlabel(\"Batches per update\")\n",
    "plt.ylabel(\"Avg epoch time (sec)\")\n",
    "plt.title(\"Average epoch time\")\n",
    "plt.grid()\n",
    "\n",
    "\n",
    "plt.show()\n",
    "\n",
    "\n",
    "plt.figure(figsize=(17, 4.5))\n",
    "\n",
    "plt.subplot(121)\n",
    "plt.plot(batches_per_update, test_accuracy, \"y\")\n",
    "plt.xlabel(\"Batches per update\")\n",
    "plt.ylabel(\"Accuracy\")\n",
    "plt.title(\"Test accuracy after 5 epochs\")\n",
    "plt.grid()\n",
    "\n",
    "plt.subplot(122)\n",
    "plt.plot(batches_per_update, val_accuracy, \"r\")\n",
    "plt.xlabel(\"Batches per update\")\n",
    "plt.ylabel(\"Accuracy\")\n",
    "plt.title(\"Val accuracy after 5 epochs\")\n",
    "plt.grid()\n",
    "\n",
    "plt.show()"
   ]
  },
  {
   "cell_type": "markdown",
   "metadata": {
    "id": "cTiE065eDNmK"
   },
   "source": [
    "__Выводы:__ Данный метод путем уменьшения реального размера батча позволяет существенно сократить количество потребляемой памяти. Однако вместе с этим растет время обучения на эффективном батче и время эпохи. Поэтому тут необходимо найти трейд-офф между этими характеристиками. \n",
    "\n",
    "Как и было указано в задании, сетка с батч нормом немного хуже при снижении размера реального батча при сохранении эффективного на значении 512. Связано скорее всего это с тем, что статистики при форвард пассе считаются по очень малому батчу, и обучение становится менее стабильным по сравнению с применением бОльшего размера батча."
   ]
  },
  {
   "cell_type": "markdown",
   "metadata": {
    "id": "K3iiJZuhSUR0"
   },
   "source": [
    "## Accuracy vs compute trade-off"
   ]
  },
  {
   "cell_type": "markdown",
   "metadata": {
    "id": "fXad1svpSk8f"
   },
   "source": [
    "### Knowledge distillation (6 points)\n",
    "Suppose that we have a large network (*teacher network*) or an ensemble of networks which has a good accuracy. We can like train a much smaller network (*student network*) using the outputs of teacher networks. It turns out that the perfomance could be even better! This approach doesn't help with training speed, but can be quite beneficial when we'd like to reduce the model size for low-memory devices.\n",
    "\n",
    "* https://www.ttic.edu/dl/dark14.pdf\n",
    "* [Distilling the Knowledge in a Neural Network](https://arxiv.org/abs/1503.02531)\n",
    "* https://medium.com/neural-machines/knowledge-distillation-dc241d7c2322\n",
    "\n",
    "Even the completely different ([article](https://arxiv.org/abs/1711.10433)) architecture can be used in a student model, e.g. you can approximate an autoregressive model (WaveNet) by a non-autoregressive one.\n",
    "\n",
    "**Task:** \n",
    "1. Train good enough (teacher) network, achieve >=35% accuracy on validation set.\n",
    "2. Train small (student) network, achieve 20-25% accuracy, draw a plot \"training and testing errors vs train step index\"\n",
    "3. Distill teacher network with student network, achieve at least +1% improvement in accuracy over student network accuracy.\n",
    "\n",
    "_Please, don't cheat with early-early-early stopping while training of the student network. Make sure, it  converged._\n",
    "\n",
    "**Note**. Logits carry more information than the probabilities after softmax.\n",
    "\n",
    "**Another note**. The most common way to distill knowledge in classification tasks is to optimize KL Divergence between the outputs of your student and teacher networks, since their outputs (after softmax operation) can be interpreted as labels distributions. There is also a good practice of using softmax with high temperature to obtain 'soft' distributions:\n",
    "\n",
    "![image info](https://miro.medium.com/max/875/1*WxFiH3XDY1-28tbyi4BGDA.png)\n",
    "\n",
    "**And another note**. Don't forget to use your teacher network in 'eval' mode. And don't forget your main objective."
   ]
  },
  {
   "cell_type": "markdown",
   "metadata": {
    "id": "ktkg1ZMJVnj5"
   },
   "source": [
    "### Load dataset"
   ]
  },
  {
   "cell_type": "code",
   "execution_count": 25,
   "metadata": {
    "id": "-CUymFg1VpeB"
   },
   "outputs": [],
   "source": [
    "transform_train = transforms.Compose([\n",
    "  #  transforms.RandomResizedCrop(64),\n",
    "   transforms.RandomRotation(15),\n",
    "  #  torchvision.transforms.ColorJitter(hue=.05, saturation=.05),\n",
    "   transforms.RandomHorizontalFlip(),\n",
    "   transforms.ToTensor(),\n",
    "   transforms.Normalize((0.5, 0.5, 0.5), (0.5, 0.5, 0.5)),\n",
    "])\n",
    "\n",
    "transform_test = transforms.Compose([\n",
    "   transforms.ToTensor(),\n",
    "   transforms.Normalize((0.5, 0.5, 0.5), (0.5, 0.5, 0.5)),\n",
    "])"
   ]
  },
  {
   "cell_type": "code",
   "execution_count": 26,
   "metadata": {
    "id": "Vc2SWPDWV1km"
   },
   "outputs": [],
   "source": [
    "dataset = torchvision.datasets.ImageFolder('tiny-imagenet-200/train', transform=transform_train)\n",
    "train_dataset, val_dataset = torch.utils.data.random_split(dataset, [80000, 20000],\n",
    "                                                           generator=torch.Generator().manual_seed(42))\n",
    "test_dataset = torchvision.datasets.ImageFolder('tiny-imagenet-200/val', transform=transform_test)\n",
    "\n",
    "batch_size = 128\n",
    "train_loader = torch.utils.data.DataLoader(train_dataset, batch_size=batch_size, shuffle=True, num_workers=2)\n",
    "val_loader = torch.utils.data.DataLoader(val_dataset, batch_size=batch_size, shuffle=True, num_workers=2)\n",
    "\n",
    "test_loader = torch.utils.data.DataLoader(test_dataset, batch_size=batch_size, shuffle=False, num_workers=2)"
   ]
  },
  {
   "cell_type": "markdown",
   "metadata": {
    "id": "_-BHBCLZV7Yo"
   },
   "source": [
    "### Load teacher network trained in homework_part_2 "
   ]
  },
  {
   "cell_type": "code",
   "execution_count": 27,
   "metadata": {
    "colab": {
     "base_uri": "https://localhost:8080/"
    },
    "id": "oFibm9lGV_7q",
    "outputId": "68c2af47-2e60-44c9-a6d6-7334e9da2159"
   },
   "outputs": [
    {
     "name": "stdout",
     "output_type": "stream",
     "text": [
      "cuda\n"
     ]
    }
   ],
   "source": [
    "if torch.cuda.is_available():\n",
    "  device = \"cuda\"\n",
    "else:\n",
    "  device = \"cpu\"\n",
    "print(device)\n",
    "\n",
    "n_classes = 200\n",
    "num_epoches = 100\n",
    "eval_every = 300"
   ]
  },
  {
   "cell_type": "code",
   "execution_count": 36,
   "metadata": {
    "id": "jrCjwvoeMA6z"
   },
   "outputs": [],
   "source": [
    "class Vgg11LikeModel(nn.Module):\n",
    "\n",
    "  def __init__(self, n_classes=200):\n",
    "    super(Vgg11LikeModel, self).__init__()\n",
    "    self.layers = nn.Sequential(\n",
    "        nn.Conv2d(in_channels=3, out_channels=64, kernel_size=3, padding=1),\n",
    "        nn.BatchNorm2d(64),\n",
    "        nn.ReLU(),\n",
    "        nn.MaxPool2d(kernel_size=2, stride=2),\n",
    "\n",
    "        nn.Conv2d(in_channels=64, out_channels=128, kernel_size=3, padding=1),\n",
    "        nn.BatchNorm2d(128),\n",
    "        nn.ReLU(),\n",
    "        nn.MaxPool2d(kernel_size=2, stride=2),\n",
    "\n",
    "        nn.Conv2d(in_channels=128, out_channels=256, kernel_size=3, padding=1),\n",
    "        nn.BatchNorm2d(256),\n",
    "        nn.ReLU(),\n",
    "        nn.MaxPool2d(kernel_size=2, stride=2),\n",
    "\n",
    "        nn.Conv2d(in_channels=256, out_channels=512, kernel_size=3, padding=1),\n",
    "        nn.BatchNorm2d(512),\n",
    "        nn.ReLU(),\n",
    "        nn.MaxPool2d(kernel_size=2, stride=2),\n",
    "        # [batch_size, 512, 4, 4] \n",
    "        \n",
    "        # [batch_size, 8192]\n",
    "        nn.Flatten(),\n",
    "\n",
    "        nn.Linear(8192, 4096),\n",
    "        nn.ReLU(),\n",
    "\n",
    "        nn.Linear(4096, 4096),\n",
    "        nn.ReLU(),\n",
    "\n",
    "        nn.Linear(4096, n_classes)\n",
    "    )\n",
    "\n",
    "  def forward(self, X):\n",
    "    return self.layers(X)"
   ]
  },
  {
   "cell_type": "code",
   "execution_count": 37,
   "metadata": {
    "id": "YkZ1oDw818n9"
   },
   "outputs": [],
   "source": [
    "teacher_model = Vgg11LikeModel()\n",
    "teacher_model.load_state_dict(torch.load(\"../content/drive/MyDrive/shad/Practical_DL/homework02/vgg16_teacher.pt\"))\n",
    "# teacher_model.load_state_dict(torch.load(\"vgg16_teacher.pt\"))\n",
    "teacher_model = teacher_model.to(device).eval()"
   ]
  },
  {
   "cell_type": "code",
   "execution_count": null,
   "metadata": {
    "colab": {
     "base_uri": "https://localhost:8080/"
    },
    "id": "wdKRbXyMWMbn",
    "outputId": "2d4e1477-7e85-465f-eea7-854cff9316ae"
   },
   "outputs": [
    {
     "name": "stdout",
     "output_type": "stream",
     "text": [
      "Teacher model accuracy: 0.41359999775886536\n"
     ]
    }
   ],
   "source": [
    "teacher_model = Vgg11LikeModel()\n",
    "teacher_model.load_state_dict(torch.load(\"../content/drive/MyDrive/shad/Practical_DL/homework02/vgg16_teacher.pt\"))\n",
    "# teacher_model.load_state_dict(torch.load(\"vgg16_teacher.pt\"))\n",
    "teacher_model = teacher_model.to(device).eval()\n",
    "\n",
    "n_correct, n_samples = 0.0, 0.0\n",
    "\n",
    "with torch.no_grad():\n",
    "  for data in test_loader:\n",
    "    X, y = data[0].to(device), data[1].to(device)\n",
    "    outputs = teacher_model(X)\n",
    "    n_correct += sum(outputs.argmax(dim=1) == y)\n",
    "    n_samples += len(y)\n",
    "\n",
    "teacher_test_accuracy = n_correct / n_samples\n",
    "print(f\"Teacher model accuracy: {teacher_test_accuracy}\")"
   ]
  },
  {
   "cell_type": "markdown",
   "metadata": {
    "id": "Li1s38ozWn-U"
   },
   "source": [
    "### Train student model by itself"
   ]
  },
  {
   "cell_type": "code",
   "execution_count": 28,
   "metadata": {
    "id": "OWUV54Km_VNX"
   },
   "outputs": [],
   "source": [
    "class SmallerStudentModel(nn.Module):\n",
    "\n",
    "  def __init__(self, n_classes=200):\n",
    "    super(SmallerStudentModel, self).__init__()\n",
    "    self.layers = nn.Sequential(\n",
    "        # nn.Conv2d(in_channels=3, out_channels=8, kernel_size=3, padding=1),\n",
    "        # nn.BatchNorm2d(8),\n",
    "        # nn.ReLU(),\n",
    "        # nn.MaxPool2d(kernel_size=2, stride=2),\n",
    "\n",
    "        # nn.Conv2d(in_channels=8, out_channels=16, kernel_size=3, padding=1),\n",
    "        # nn.BatchNorm2d(16),\n",
    "        # nn.ReLU(),\n",
    "        # nn.MaxPool2d(kernel_size=2, stride=2),\n",
    "\n",
    "        # # [batch_size, 16, 16, 16] \n",
    "        \n",
    "        # # [batch_size, 4096]\n",
    "        # nn.Flatten(),\n",
    "\n",
    "        # nn.Linear(16 * 16 * 16, 2048),\n",
    "        # nn.ReLU(),\n",
    "\n",
    "        # nn.Linear(2048, n_classes)\n",
    "        nn.Conv2d(in_channels=3, out_channels=32, kernel_size=3, padding=1),\n",
    "        nn.BatchNorm2d(32),\n",
    "        nn.ReLU(),\n",
    "        nn.MaxPool2d(kernel_size=3, stride=3),\n",
    "\n",
    "        nn.Conv2d(in_channels=32, out_channels=64, kernel_size=3, padding=1),\n",
    "        nn.BatchNorm2d(64),\n",
    "        nn.ReLU(),\n",
    "        nn.MaxPool2d(kernel_size=3, stride=3),\n",
    "\n",
    "        # [batch_size, 512, 4, 4] \n",
    "        \n",
    "        # [batch_size, 8192]\n",
    "        nn.Flatten(),\n",
    "\n",
    "        nn.Linear(64 * 7 * 7, 1024),\n",
    "        nn.ReLU(),\n",
    "\n",
    "        nn.Linear(1024, n_classes)\n",
    "    )\n",
    "\n",
    "  def forward(self, X):\n",
    "    return self.layers(X)"
   ]
  },
  {
   "cell_type": "code",
   "execution_count": 30,
   "metadata": {
    "colab": {
     "base_uri": "https://localhost:8080/",
     "height": 492
    },
    "id": "3Y_S2plYpWAq",
    "outputId": "453bbf5e-fbed-41f9-fe97-3d81713ce018"
   },
   "outputs": [
    {
     "name": "stdout",
     "output_type": "stream",
     "text": [
      "epoch 63, iter 624, train loss = 2.8351, train acc = 0.3391, val loss = 3.1552, val acc = 0.2946\n"
     ]
    },
    {
     "data": {
      "image/png": "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\n",
      "text/plain": [
       "<Figure size 864x288 with 2 Axes>"
      ]
     },
     "metadata": {
      "needs_background": "light",
      "tags": []
     },
     "output_type": "display_data"
    },
    {
     "ename": "KeyboardInterrupt",
     "evalue": "ignored",
     "output_type": "error",
     "traceback": [
      "\u001b[0;31m---------------------------------------------------------------------------\u001b[0m",
      "\u001b[0;31mKeyboardInterrupt\u001b[0m                         Traceback (most recent call last)",
      "\u001b[0;32m<ipython-input-30-696307ecba99>\u001b[0m in \u001b[0;36m<module>\u001b[0;34m()\u001b[0m\n\u001b[1;32m     28\u001b[0m \u001b[0;34m\u001b[0m\u001b[0m\n\u001b[1;32m     29\u001b[0m     \u001b[0mnum_samples_train\u001b[0m \u001b[0;34m+=\u001b[0m \u001b[0mlen\u001b[0m\u001b[0;34m(\u001b[0m\u001b[0mX\u001b[0m\u001b[0;34m)\u001b[0m\u001b[0;34m\u001b[0m\u001b[0;34m\u001b[0m\u001b[0m\n\u001b[0;32m---> 30\u001b[0;31m     \u001b[0mrunning_loss_train\u001b[0m \u001b[0;34m+=\u001b[0m \u001b[0mloss\u001b[0m\u001b[0;34m.\u001b[0m\u001b[0mdetach\u001b[0m\u001b[0;34m(\u001b[0m\u001b[0;34m)\u001b[0m\u001b[0;34m.\u001b[0m\u001b[0mcpu\u001b[0m\u001b[0;34m(\u001b[0m\u001b[0;34m)\u001b[0m\u001b[0;34m.\u001b[0m\u001b[0mitem\u001b[0m\u001b[0;34m(\u001b[0m\u001b[0;34m)\u001b[0m \u001b[0;34m*\u001b[0m \u001b[0mlen\u001b[0m\u001b[0;34m(\u001b[0m\u001b[0mX\u001b[0m\u001b[0;34m)\u001b[0m\u001b[0;34m\u001b[0m\u001b[0;34m\u001b[0m\u001b[0m\n\u001b[0m\u001b[1;32m     31\u001b[0m     \u001b[0mnum_correct_train\u001b[0m \u001b[0;34m+=\u001b[0m \u001b[0msum\u001b[0m\u001b[0;34m(\u001b[0m\u001b[0moutputs\u001b[0m\u001b[0;34m.\u001b[0m\u001b[0margmax\u001b[0m\u001b[0;34m(\u001b[0m\u001b[0mdim\u001b[0m\u001b[0;34m=\u001b[0m\u001b[0;36m1\u001b[0m\u001b[0;34m)\u001b[0m \u001b[0;34m==\u001b[0m \u001b[0my\u001b[0m\u001b[0;34m)\u001b[0m\u001b[0;34m\u001b[0m\u001b[0;34m\u001b[0m\u001b[0m\n\u001b[1;32m     32\u001b[0m \u001b[0;34m\u001b[0m\u001b[0m\n",
      "\u001b[0;31mKeyboardInterrupt\u001b[0m: "
     ]
    }
   ],
   "source": [
    "student_model = SmallerStudentModel().to(device)\n",
    "lr = 2e-3\n",
    "optimizer = torch.optim.Adam(student_model.parameters(), \n",
    "                             lr=lr, weight_decay=0.0001)\n",
    "criterion = nn.CrossEntropyLoss()\n",
    "\n",
    "student_model.train()\n",
    "\n",
    "train_loss, val_loss = [], []\n",
    "train_acc, val_acc = [], []\n",
    "\n",
    "for epoch in range(num_epoches):\n",
    "  if epoch and not epoch % 20:\n",
    "    lr /= 8\n",
    "    optimizer = torch.optim.Adam(student_model.parameters(), lr=lr)\n",
    "\n",
    "  running_loss_train, num_correct_train, num_samples_train = 0.0, 0.0, 0\n",
    "\n",
    "  for i, data in enumerate(train_loader):\n",
    "    X, y = data[0].to(device), data[1].to(device)\n",
    "    optimizer.zero_grad()\n",
    "\n",
    "    outputs = student_model(X)\n",
    "    loss = criterion(outputs, y)\n",
    "\n",
    "    loss.backward()\n",
    "    optimizer.step()\n",
    "\n",
    "    num_samples_train += len(X)\n",
    "    running_loss_train += loss.detach().cpu().item() * len(X)\n",
    "    num_correct_train += sum(outputs.argmax(dim=1) == y)\n",
    "\n",
    "    # if not i % eval_every:\n",
    "  train_loss.append(running_loss_train / num_samples_train)\n",
    "  train_acc.append(num_correct_train / num_samples_train)\n",
    "  running_loss_train, num_correct_train, num_samples_train = 0.0, 0.0, 0\n",
    "  # print(f\"epoch {epoch}, iter {i}, train loss = {train_loss[-1]}, \" + \\\n",
    "  #       f\"train acc = {train_acc[-1]}\")\n",
    "\n",
    "  student_model.eval()\n",
    "  with torch.no_grad():\n",
    "    correct_answers_val, val_loss_value, num_samples_val = 0, 0.0, 0\n",
    "    for data in val_loader:\n",
    "      X, y = data[0].to(device), data[1].to(device)\n",
    "      \n",
    "      outputs = student_model(X)\n",
    "      loss = criterion(outputs, y)\n",
    "      val_loss_value += loss.item() * len(X)\n",
    "      correct_answers_val += sum(outputs.argmax(dim=1) == y)\n",
    "      num_samples_val += len(X)\n",
    "\n",
    "  val_loss.append(val_loss_value / num_samples_val)\n",
    "  val_acc.append(correct_answers_val / num_samples_val)\n",
    "  \n",
    "  clear_output(True)\n",
    "  print(f\"epoch {epoch}, iter {i}, train loss = {round(float(train_loss[-1]), 4)}, \" + \\\n",
    "        f\"train acc = {round(float(train_acc[-1]), 4)}, \" + \\\n",
    "        f\"val loss = {round(float(val_loss[-1]), 4)}, val acc = {round(float(val_acc[-1]), 4)}\")\n",
    "  plt.figure(figsize=[12, 4])\n",
    "\n",
    "  plt.subplot(1, 2, 1)\n",
    "  plt.ylim((-1, 10))\n",
    "  plt.plot(train_loss, label='train loss')\n",
    "  plt.plot(val_loss, label='val loss')\n",
    "  plt.legend()\n",
    "  plt.grid()\n",
    "\n",
    "  plt.subplot(1, 2, 2)\n",
    "  plt.ylim((-0.1, 0.7 ))\n",
    "  plt.plot(train_acc, label='train accuracy')\n",
    "  plt.plot(val_acc, label='val accuracy')\n",
    "  plt.legend()\n",
    "  plt.grid()\n",
    "  plt.show()\n",
    "\n",
    "  student_model.train()"
   ]
  },
  {
   "cell_type": "code",
   "execution_count": 31,
   "metadata": {
    "colab": {
     "base_uri": "https://localhost:8080/"
    },
    "id": "ZqhLOmcdPZk6",
    "outputId": "d96cdfdd-862a-4392-deb6-1025457c8a80"
   },
   "outputs": [
    {
     "name": "stdout",
     "output_type": "stream",
     "text": [
      "Student model accuracy: 0.29989999532699585\n"
     ]
    }
   ],
   "source": [
    "student_model = student_model.to(device).eval()\n",
    "\n",
    "n_correct, n_samples = 0.0, 0.0\n",
    "\n",
    "with torch.no_grad():\n",
    "  for data in test_loader:\n",
    "    X, y = data[0].to(device), data[1].to(device)\n",
    "    outputs = student_model(X)\n",
    "    n_correct += sum(outputs.argmax(dim=1) == y)\n",
    "    n_samples += len(y)\n",
    "\n",
    "student_test_accuracy = n_correct / n_samples\n",
    "print(f\"Student model accuracy: {student_test_accuracy}\")"
   ]
  },
  {
   "cell_type": "code",
   "execution_count": 32,
   "metadata": {
    "colab": {
     "base_uri": "https://localhost:8080/"
    },
    "id": "Y7XWMY4kA9Xh",
    "outputId": "537cd7d2-3f7a-4fd4-8d41-e82aa7ebd14e"
   },
   "outputs": [
    {
     "name": "stdout",
     "output_type": "stream",
     "text": [
      "/content/drive/MyDrive/shad/Practical_DL/homework02\n"
     ]
    }
   ],
   "source": [
    "cd ../content/drive/MyDrive/shad/Practical_DL/homework02/"
   ]
  },
  {
   "cell_type": "code",
   "execution_count": 33,
   "metadata": {
    "id": "qb0x7vPfA-Pz"
   },
   "outputs": [],
   "source": [
    "torch.save(student_model.state_dict(), \"student_model.pt\")"
   ]
  },
  {
   "cell_type": "code",
   "execution_count": 34,
   "metadata": {
    "colab": {
     "base_uri": "https://localhost:8080/"
    },
    "id": "MjmQOWhrNKD6",
    "outputId": "9eadf529-9323-4bcb-ec53-1d2efbc79c5c"
   },
   "outputs": [
    {
     "name": "stdout",
     "output_type": "stream",
     "text": [
      "/root\n"
     ]
    }
   ],
   "source": [
    "cd"
   ]
  },
  {
   "cell_type": "markdown",
   "metadata": {
    "id": "fXUMxZyU_XIn"
   },
   "source": [
    "### Distillation process"
   ]
  },
  {
   "cell_type": "code",
   "execution_count": 38,
   "metadata": {
    "id": "CYkkSTisBohd"
   },
   "outputs": [],
   "source": [
    "teacher_model = teacher_model.eval().to(device)\n",
    "temperature = 10"
   ]
  },
  {
   "cell_type": "code",
   "execution_count": 39,
   "metadata": {
    "colab": {
     "base_uri": "https://localhost:8080/",
     "height": 492
    },
    "id": "PCvBFc0k2DLC",
    "outputId": "26775fda-a38c-4648-e044-15e71d1e58e2"
   },
   "outputs": [
    {
     "name": "stdout",
     "output_type": "stream",
     "text": [
      "epoch 80, iter 624, train loss = 517.6912, train acc = 0.397, val loss = 519.0214, val acc = 0.3244\n"
     ]
    },
    {
     "data": {
      "image/png": "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\n",
      "text/plain": [
       "<Figure size 864x288 with 2 Axes>"
      ]
     },
     "metadata": {
      "needs_background": "light",
      "tags": []
     },
     "output_type": "display_data"
    },
    {
     "ename": "KeyboardInterrupt",
     "evalue": "ignored",
     "output_type": "error",
     "traceback": [
      "\u001b[0;31m---------------------------------------------------------------------------\u001b[0m",
      "\u001b[0;31mKeyboardInterrupt\u001b[0m                         Traceback (most recent call last)",
      "\u001b[0;32m<ipython-input-39-f5f02c52bba4>\u001b[0m in \u001b[0;36m<module>\u001b[0;34m()\u001b[0m\n\u001b[1;32m     60\u001b[0m       \u001b[0mloss\u001b[0m \u001b[0;34m=\u001b[0m \u001b[0mloss_true\u001b[0m \u001b[0;34m+\u001b[0m \u001b[0mloss_teacher\u001b[0m \u001b[0;34m*\u001b[0m \u001b[0mtemperature\u001b[0m \u001b[0;34m**\u001b[0m \u001b[0;36m2\u001b[0m\u001b[0;34m\u001b[0m\u001b[0;34m\u001b[0m\u001b[0m\n\u001b[1;32m     61\u001b[0m \u001b[0;34m\u001b[0m\u001b[0m\n\u001b[0;32m---> 62\u001b[0;31m       \u001b[0mval_loss_value\u001b[0m \u001b[0;34m+=\u001b[0m \u001b[0mloss\u001b[0m\u001b[0;34m.\u001b[0m\u001b[0mitem\u001b[0m\u001b[0;34m(\u001b[0m\u001b[0;34m)\u001b[0m \u001b[0;34m*\u001b[0m \u001b[0mlen\u001b[0m\u001b[0;34m(\u001b[0m\u001b[0mX\u001b[0m\u001b[0;34m)\u001b[0m\u001b[0;34m\u001b[0m\u001b[0;34m\u001b[0m\u001b[0m\n\u001b[0m\u001b[1;32m     63\u001b[0m       \u001b[0mcorrect_answers_val\u001b[0m \u001b[0;34m+=\u001b[0m \u001b[0msum\u001b[0m\u001b[0;34m(\u001b[0m\u001b[0mstudent_outputs\u001b[0m\u001b[0;34m.\u001b[0m\u001b[0margmax\u001b[0m\u001b[0;34m(\u001b[0m\u001b[0mdim\u001b[0m\u001b[0;34m=\u001b[0m\u001b[0;36m1\u001b[0m\u001b[0;34m)\u001b[0m \u001b[0;34m==\u001b[0m \u001b[0my\u001b[0m\u001b[0;34m)\u001b[0m\u001b[0;34m\u001b[0m\u001b[0;34m\u001b[0m\u001b[0m\n\u001b[1;32m     64\u001b[0m       \u001b[0mnum_samples_val\u001b[0m \u001b[0;34m+=\u001b[0m \u001b[0mlen\u001b[0m\u001b[0;34m(\u001b[0m\u001b[0mX\u001b[0m\u001b[0;34m)\u001b[0m\u001b[0;34m\u001b[0m\u001b[0;34m\u001b[0m\u001b[0m\n",
      "\u001b[0;31mKeyboardInterrupt\u001b[0m: "
     ]
    }
   ],
   "source": [
    "distillation_model = SmallerStudentModel().train().to(device)\n",
    "\n",
    "lr = 2e-3\n",
    "optimizer = torch.optim.Adam(distillation_model.parameters(), lr=lr, weight_decay=0.0001)\n",
    "criterion = nn.CrossEntropyLoss()\n",
    "\n",
    "distillation_model.train()\n",
    "\n",
    "train_loss, val_loss = [], []\n",
    "train_acc, val_acc = [], []\n",
    "\n",
    "for epoch in range(num_epoches):\n",
    "  if epoch and not epoch % 20:\n",
    "    lr /= 8\n",
    "    optimizer = torch.optim.Adam(distillation_model.parameters(), lr=lr)\n",
    "\n",
    "  running_loss_train, num_correct_train, num_samples_train = 0.0, 0.0, 0\n",
    "\n",
    "  for i, data in enumerate(train_loader):\n",
    "    X, y = data[0].to(device), data[1].to(device)\n",
    "    optimizer.zero_grad()\n",
    "\n",
    "    with torch.no_grad():\n",
    "      teacher_prediction = teacher_model(X)\n",
    "    student_outputs = distillation_model(X)\n",
    "\n",
    "    loss_true = criterion(student_outputs, y)\n",
    "    loss_teacher = - torch.mean(torch.sum(F.log_softmax(student_outputs / \n",
    "                                                        temperature, dim=1) *\n",
    "                                          F.softmax(teacher_prediction / temperature, dim=1), dim=1))\n",
    "    loss = loss_true + loss_teacher * temperature ** 2 \n",
    "\n",
    "    loss.backward()\n",
    "    optimizer.step()\n",
    "\n",
    "    num_samples_train += len(X)\n",
    "    running_loss_train += loss.detach().cpu().item() * len(X)\n",
    "    num_correct_train += sum(student_outputs.argmax(dim=1) == y)\n",
    "\n",
    "  # if not i % eval_every:\n",
    "  train_loss.append(running_loss_train / num_samples_train)\n",
    "  train_acc.append(num_correct_train / num_samples_train)\n",
    "  running_loss_train, num_correct_train, num_samples_train = 0.0, 0.0, 0\n",
    "  # print(f\"epoch {epoch}, iter {i}, train loss = {train_loss[-1]}, \" + \\\n",
    "  #       f\"train acc = {train_acc[-1]}\")\n",
    "\n",
    "  distillation_model.eval()\n",
    "  with torch.no_grad():\n",
    "    correct_answers_val, val_loss_value, num_samples_val = 0, 0.0, 0\n",
    "    for data in val_loader:\n",
    "      X, y = data[0].to(device), data[1].to(device)\n",
    "\n",
    "      teacher_prediction = teacher_model(X)\n",
    "      student_outputs = distillation_model(X)\n",
    "\n",
    "      loss_true = criterion(student_outputs, y)\n",
    "      loss_teacher = - torch.mean(torch.sum(F.log_softmax(student_outputs / \n",
    "                                                        temperature, dim=1) *\n",
    "                                          F.softmax(teacher_prediction / temperature, dim=1), dim=1))\n",
    "      loss = loss_true + loss_teacher * temperature ** 2 \n",
    "\n",
    "      val_loss_value += loss.item() * len(X)\n",
    "      correct_answers_val += sum(student_outputs.argmax(dim=1) == y)\n",
    "      num_samples_val += len(X)\n",
    "\n",
    "  val_loss.append(val_loss_value / num_samples_val)\n",
    "  val_acc.append(correct_answers_val / num_samples_val)\n",
    "  \n",
    "  clear_output(True)\n",
    "  print(f\"epoch {epoch}, iter {i}, train loss = {round(float(train_loss[-1]), 4)}, \" + \\\n",
    "        f\"train acc = {round(float(train_acc[-1]), 4)}, \" + \\\n",
    "        f\"val loss = {round(float(val_loss[-1]), 4)}, val acc = {round(float(val_acc[-1]), 4)}\")\n",
    "  plt.figure(figsize=[12, 4])\n",
    "\n",
    "  plt.subplot(1, 2, 1)\n",
    "  plt.ylim((-1, 600))\n",
    "  plt.plot(train_loss, label='train loss')\n",
    "  plt.plot(val_loss, label='val loss')\n",
    "  plt.legend()\n",
    "  plt.grid()\n",
    "\n",
    "  plt.subplot(1, 2, 2)\n",
    "  plt.ylim((-0.1, 0.7 ))\n",
    "  plt.plot(train_acc, label='train accuracy')\n",
    "  plt.plot(val_acc, label='val accuracy')\n",
    "  plt.legend()\n",
    "  plt.grid()\n",
    "  plt.show()\n",
    "    \n",
    "  distillation_model.train()"
   ]
  },
  {
   "cell_type": "code",
   "execution_count": 53,
   "metadata": {
    "colab": {
     "base_uri": "https://localhost:8080/"
    },
    "id": "ohLFShNoHnr3",
    "outputId": "f1896ffb-0a73-4b55-d36f-d24101ebdeb6"
   },
   "outputs": [
    {
     "name": "stdout",
     "output_type": "stream",
     "text": [
      "Distilled model accuracy: 0.3342999815940857\n"
     ]
    }
   ],
   "source": [
    "distillation_model = distillation_model.to(device).eval()\n",
    "\n",
    "n_correct, n_samples = 0.0, 0.0\n",
    "\n",
    "with torch.no_grad():\n",
    "  for data in test_loader:\n",
    "    X, y = data[0].to(device), data[1].to(device)\n",
    "    outputs = distillation_model(X)\n",
    "    n_correct += sum(outputs.argmax(dim=1) == y)\n",
    "    n_samples += len(y)\n",
    "\n",
    "student_test_accuracy = n_correct / n_samples\n",
    "print(f\"Distilled model accuracy: {student_test_accuracy}\")"
   ]
  },
  {
   "cell_type": "code",
   "execution_count": 41,
   "metadata": {
    "id": "lmoEFSJI4TGq"
   },
   "outputs": [],
   "source": [
    "torch.save(distillation_model.state_dict(), \"../content/drive/MyDrive/shad/Practical_DL/homework02/distilled_model.pt\")"
   ]
  },
  {
   "cell_type": "code",
   "execution_count": 42,
   "metadata": {
    "colab": {
     "base_uri": "https://localhost:8080/"
    },
    "id": "Wtl1KIV-4apJ",
    "outputId": "404373b3-872d-4a2c-d2a6-e2a1e70fcd28"
   },
   "outputs": [
    {
     "name": "stdout",
     "output_type": "stream",
     "text": [
      "Distilled model size: 13.117325782775879 Mb\n",
      "Teacher model size: 201.0993356704712 Mb\n"
     ]
    }
   ],
   "source": [
    "import os\n",
    "distilled_size = os.path.getsize('../content/drive/MyDrive/shad/Practical_DL/homework02/distilled_model.pt') / 1024 / 1024\n",
    "teacher_size = os.path.getsize('../content/drive/MyDrive/shad/Practical_DL/homework02/vgg16_teacher.pt') / 1024 / 1024\n",
    "\n",
    "print(f\"Distilled model size: {distilled_size} Mb\")\n",
    "print(f\"Teacher model size: {teacher_size} Mb\")"
   ]
  },
  {
   "cell_type": "markdown",
   "metadata": {
    "id": "-iEIfu8hK4vK"
   },
   "source": [
    "__Выводы__: С помощью дистилляции удалось поднять качество на тестовом сете маленькой сетки с accuracy=0.2999 до 0.3343. Качество большой модели на тестовом сете 0.4135. Думаю, что при тонком подборе температуры и прочих гиперпараметров, можно было бы добиться и более высокого результата. При этом, размер сетки-учителя 201 Мб на диске, а сетки-студента 13 Мб, что почти в 20 раз меньше."
   ]
  },
  {
   "cell_type": "markdown",
   "metadata": {
    "id": "ChKEmkpuMA6z"
   },
   "source": [
    "### TL;DR. Moar techniques on accuracy vs time trade-off (just for your information)"
   ]
  },
  {
   "cell_type": "markdown",
   "metadata": {
    "id": "Ol6hIs0xMA60"
   },
   "source": [
    "### Mutual learning\n",
    "\n",
    "Instead of transfer knowledge from a pre-trained teacher to a single student, we can train an ensemble of students learn collaboratively even without a teacher model:\n",
    "\n",
    "https://arxiv.org/pdf/1706.00384.pdf"
   ]
  },
  {
   "cell_type": "markdown",
   "metadata": {
    "id": "0WOWhqMJSboR"
   },
   "source": [
    "### Tensor type size\n",
    "\n",
    "One of the hyperparameter affecting memory consumption is the precision (e.g. floating point number). The most popular choice is 32 bit however with several hacks* 16 bit arithmetics can save you approximately half of the memory without considerable loss of perfomance. This is called mixed precision training:\n",
    "\n",
    "https://arxiv.org/pdf/1710.03740.pdf\n",
    "\n",
    "Mixed precision in pytorch:\n",
    "\n",
    "https://pytorch.org/docs/stable/notes/amp_examples.html"
   ]
  },
  {
   "cell_type": "markdown",
   "metadata": {
    "id": "-xAEF9aJc-43"
   },
   "source": [
    "### Quantization\n",
    "\n",
    "We can actually move further and use even lower precision like 8-bit integers:\n",
    "\n",
    "* https://heartbeat.fritz.ai/8-bit-quantization-and-tensorflow-lite-speeding-up-mobile-inference-with-low-precision-a882dfcafbbd\n",
    "* https://intellabs.github.io/distiller/design.html#quantization\n",
    "* https://arxiv.org/abs/1712.05877\n",
    "\n",
    "Quantization in pytorch:\n",
    "* https://pytorch.org/docs/stable/quantization.html\n",
    "* https://spell.ml/blog/pytorch-quantization-X8e7wBAAACIAHPhT"
   ]
  },
  {
   "cell_type": "markdown",
   "metadata": {
    "id": "9vdZA3moMA61"
   },
   "source": [
    "### Pruning\n",
    "\n",
    "The idea of pruning is to remove unnecessary (in terms of loss) weights. It can be measured in different ways: for example, by the norm of the weights (similar to L1 feature selection), by the magnitude of the activation or via Taylor expansion*.\n",
    "\n",
    "One iteration of pruning consists of two steps:\n",
    "\n",
    "1) Rank weights with some importance measure and remove the least important\n",
    "\n",
    "2) Fine-tune the model\n",
    "\n",
    "This approach is a bit computationally heavy but can lead to drastic (up to 150x) decrease of memory to store the weights. Moreover if you make use of structure in layers you can decrease also compute. For example, the whole convolutional filters can be removed.\n",
    "\n",
    "*https://arxiv.org/pdf/1611.06440.pdf\n",
    "\n",
    "*https://arxiv.org/pdf/1808.06866.pdf"
   ]
  },
  {
   "cell_type": "code",
   "execution_count": null,
   "metadata": {
    "id": "OuHGuuLuMA61"
   },
   "outputs": [],
   "source": []
  }
 ],
 "metadata": {
  "accelerator": "GPU",
  "colab": {
   "collapsed_sections": [],
   "name": "homework_advanced.ipynb",
   "provenance": [],
   "toc_visible": true
  },
  "kernelspec": {
   "display_name": "Python 3",
   "language": "python",
   "name": "python3"
  },
  "language_info": {
   "codemirror_mode": {
    "name": "ipython",
    "version": 3
   },
   "file_extension": ".py",
   "mimetype": "text/x-python",
   "name": "python",
   "nbconvert_exporter": "python",
   "pygments_lexer": "ipython3",
   "version": "3.8.3"
  }
 },
 "nbformat": 4,
 "nbformat_minor": 1
}
