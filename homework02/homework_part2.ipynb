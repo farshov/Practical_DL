{
  "nbformat": 4,
  "nbformat_minor": 0,
  "metadata": {
    "kernelspec": {
      "display_name": "Python 3",
      "language": "python",
      "name": "python3"
    },
    "language_info": {
      "codemirror_mode": {
        "name": "ipython",
        "version": 3
      },
      "file_extension": ".py",
      "mimetype": "text/x-python",
      "name": "python",
      "nbconvert_exporter": "python",
      "pygments_lexer": "ipython3",
      "version": "3.9.2"
    },
    "notebookId": "65f9de61-b446-4240-9ae4-a038dd4de505",
    "colab": {
      "name": "Копия блокнота \"homework_part2.ipynb\"",
      "provenance": [],
      "collapsed_sections": [],
      "toc_visible": true
    }
  },
<<<<<<< HEAD
  "cells": [
    {
      "cell_type": "code",
      "metadata": {
        "colab": {
          "base_uri": "https://localhost:8080/"
        },
        "id": "dY_y3WHJkHCl",
        "outputId": "d6d3003d-068a-4853-9c04-cd96c7bfea5e"
      },
      "source": [
        "from google.colab import drive\n",
        "drive.mount('/content/drive')"
      ],
      "execution_count": null,
      "outputs": [
        {
          "output_type": "stream",
          "text": [
            "Drive already mounted at /content/drive; to attempt to forcibly remount, call drive.mount(\"/content/drive\", force_remount=True).\n"
          ],
          "name": "stdout"
        }
      ]
    },
    {
      "cell_type": "markdown",
      "metadata": {
        "cellId": "rqbps0po5jh7gkaa2wqkbx",
        "id": "A4cXBXPvj-DB"
      },
      "source": [
        "# Homework 2.2: The Quest For A Better Network\n",
        "\n",
        "In this assignment you will build a monster network to solve Tiny ImageNet image classification.\n",
        "\n",
        "This notebook is intended as a sequel to seminar 3, please give it a try if you haven't done so yet."
      ]
    },
    {
      "cell_type": "markdown",
      "metadata": {
        "cellId": "wxpnt6bj6ame9olh8ah1j",
        "id": "c4AFL_znj-DK"
      },
      "source": [
        "(please read it at least diagonally)\n",
        "\n",
        "* The ultimate quest is to create a network that has as high __accuracy__ as you can push it.\n",
        "* There is a __mini-report__ at the end that you will have to fill in. We recommend reading it first and filling it while you iterate.\n",
        " \n",
        "## Grading\n",
        "* starting at zero points\n",
        "* +20% for describing your iteration path in a report below.\n",
        "* +20% for building a network that gets above 20% accuracy\n",
        "* +10% for beating each of these milestones on __TEST__ dataset:\n",
        "    * 25% (50% points)\n",
        "    * 30% (60% points)\n",
        "    * 32.5% (70% points)\n",
        "    * 35% (80% points)\n",
        "    * 37.5% (90% points)\n",
        "    * 40% (full points)\n",
        "    \n",
        "## Restrictions\n",
        "* Please do NOT use pre-trained networks for this assignment until you reach 40%.\n",
        " * In other words, base milestones must be beaten without pre-trained nets (and such net must be present in the anytask atttachments). After that, you can use whatever you want.\n",
        "* you __can't__ do anything with validation data apart from running the evaluation procedure. Please, split train images on train and validation parts\n",
        "\n",
        "## Tips on what can be done:\n",
        "\n",
        "\n",
        " * __Network size__\n",
        "   * MOAR neurons, \n",
        "   * MOAR layers, ([torch.nn docs](http://pytorch.org/docs/master/nn.html))\n",
        "\n",
        "   * Nonlinearities in the hidden layers\n",
        "     * tanh, relu, leaky relu, etc\n",
        "   * Larger networks may take more epochs to train, so don't discard your net just because it could didn't beat the baseline in 5 epochs.\n",
        "\n",
        "   * Ph'nglui mglw'nafh Cthulhu R'lyeh wgah'nagl fhtagn!\n",
        "\n",
        "\n",
        "### The main rule of prototyping: one change at a time\n",
        "   * By now you probably have several ideas on what to change. By all means, try them out! But there's a catch: __never test several new things at once__.\n",
        "\n",
        "\n",
        "### Optimization\n",
        "   * Training for 100 epochs regardless of anything is probably a bad idea.\n",
        "   * Some networks converge over 5 epochs, others - over 500.\n",
        "   * Way to go: stop when validation score is 10 iterations past maximum\n",
        "   * You should certainly use adaptive optimizers\n",
        "     * rmsprop, nesterov_momentum, adam, adagrad and so on.\n",
        "     * Converge faster and sometimes reach better optima\n",
        "     * It might make sense to tweak learning rate/momentum, other learning parameters, batch size and number of epochs\n",
        "   * __BatchNormalization__ (nn.BatchNorm2d) for the win!\n",
        "     * Sometimes more batch normalization is better.\n",
        "   * __Regularize__ to prevent overfitting\n",
        "     * Add some L2 weight norm to the loss function, PyTorch will do the rest\n",
        "       * Can be done manually or like [this](https://discuss.pytorch.org/t/simple-l2-regularization/139/2).\n",
        "     * Dropout (`nn.Dropout`) - to prevent overfitting\n",
        "       * Don't overdo it. Check if it actually makes your network better\n",
        "   \n",
        "### Convolution architectures\n",
        "   * This task __can__ be solved by a sequence of convolutions and poolings with batch_norm and ReLU seasoning, but you shouldn't necessarily stop there.\n",
        "   * [Inception family](https://hacktilldawn.com/2016/09/25/inception-modules-explained-and-implemented/), [ResNet family](https://towardsdatascience.com/an-overview-of-resnet-and-its-variants-5281e2f56035?gi=9018057983ca), [Densely-connected convolutions (exotic)](https://arxiv.org/abs/1608.06993), [Capsule networks (exotic)](https://arxiv.org/abs/1710.09829)\n",
        "   * Please do try a few simple architectures before you go for resnet-152.\n",
        "   * Warning! Training convolutional networks can take long without GPU. That's okay.\n",
        "     * If you are CPU-only, we still recomment that you try a simple convolutional architecture\n",
        "     * a perfect option is if you can set it up to run at nighttime and check it up at the morning.\n",
        "     * Make reasonable layer size estimates. A 128-neuron first convolution is likely an overkill.\n",
        "     * __To reduce computation__ time by a factor in exchange for some accuracy drop, try using __stride__ parameter. A stride=2 convolution should take roughly 1/4 of the default (stride=1) one.\n",
        " \n",
        "   \n",
        "### Data augmemntation\n",
        "   * getting 5x as large dataset for free is a great \n",
        "     * Zoom-in+slice = move\n",
        "     * Rotate+zoom(to remove black stripes)\n",
        "     * Add Noize (gaussian or bernoulli)\n",
        "   * Simple way to do that (if you have PIL/Image): \n",
        "     * ```from scipy.misc import imrotate,imresize```\n",
        "     * and a few slicing\n",
        "     * Other cool libraries: cv2, skimake, PIL/Pillow\n",
        "   * A more advanced way is to use torchvision transforms:\n",
        "   \n",
        "    ```\n",
        "    transform_train = transforms.Compose([\n",
        "        transforms.RandomCrop(32, padding=4),\n",
        "        transforms.RandomHorizontalFlip(),\n",
        "        transforms.ToTensor(),\n",
        "        transforms.Normalize((0.4914, 0.4822, 0.4465), (0.2023, 0.1994, 0.2010)),\n",
        "    ])\n",
        "    trainset = torchvision.datasets.ImageFolder(root=path_to_tiny_imagenet, train=True, download=True, transform=transform_train)\n",
        "    trainloader = torch.utils.data.DataLoader(trainset, batch_size=128, shuffle=True, num_workers=2)\n",
        "    ```\n",
        "   \n",
        "   * Or use this tool from Keras (requires theano/tensorflow): [tutorial](https://blog.keras.io/building-powerful-image-classification-models-using-very-little-data.html), [docs](https://keras.io/preprocessing/image/)\n",
        "   * [Albumentations](https://github.com/albumentations-team/albumentations) is another awesome solution.\n",
        "   * Stay realistic. There's usually no point in flipping dogs upside down as that is not the way you usually see them.  \n",
        "    * But sometimes there is! Some examples of advanced image augmentation approaches: [mixup](https://arxiv.org/pdf/1710.09412.pdf), [cutmix](https://arxiv.org/pdf/1905.04899.pdf)   "
      ]
    },
    {
      "cell_type": "code",
      "metadata": {
        "cellId": "xkaa3usdky9sfz7upl02w",
        "id": "j1QRa1k5j-DL"
      },
      "source": [
        "import numpy as np\n",
        "import matplotlib.pyplot as plt\n",
        "%matplotlib inline\n",
        "\n",
        "import torch, torch.nn as nn, torch.nn.functional as F\n",
        "from torch.utils.data import Dataset, DataLoader\n",
        "import torchvision, torchvision.transforms as transforms\n",
        "from tqdm import tqdm\n",
        "from IPython.display import clear_output\n",
        "\n",
        "import matplotlib.pyplot as plt\n",
        "\n",
        "# Uncomment this to disable \"Skipping walk through <class 'list'>\" warnings in DataSphere's env\n",
        "# %enable_full_walk"
      ],
      "execution_count": null,
      "outputs": []
    },
    {
      "cell_type": "code",
      "metadata": {
        "colab": {
          "base_uri": "https://localhost:8080/"
        },
        "id": "3hF8ltW7wI0T",
        "outputId": "2486967d-ffba-4a3c-bf2d-1a1542369504"
      },
      "source": [
        "cd drive/MyDrive/shad/Practical_DL/homework02/"
      ],
      "execution_count": null,
      "outputs": [
        {
          "output_type": "stream",
          "text": [
            "/content/drive/MyDrive/shad/Practical_DL/homework02\n"
          ],
          "name": "stdout"
        }
      ]
    },
    {
      "cell_type": "code",
      "metadata": {
        "id": "6yLE0n_CwXxm"
      },
      "source": [
        "from tiny_img import download_tinyImg200, fix_test_data"
      ],
      "execution_count": null,
      "outputs": []
    },
    {
      "cell_type": "code",
      "metadata": {
        "colab": {
          "base_uri": "https://localhost:8080/"
        },
        "id": "DLcxOhKVwYF9",
        "outputId": "8faeccc0-6886-409d-a591-26fa4beba994"
      },
      "source": [
        "cd"
      ],
      "execution_count": null,
      "outputs": [
        {
          "output_type": "stream",
          "text": [
            "/root\n"
          ],
          "name": "stdout"
        }
      ]
    },
    {
      "cell_type": "code",
      "metadata": {
        "cellId": "mqe3vhwr7q85q3bi0b3rg",
        "colab": {
          "base_uri": "https://localhost:8080/"
        },
        "id": "WdR0BK5Xj-DM",
        "outputId": "f6f61e57-8278-4e09-949e-f33aa2c77172"
      },
      "source": [
        "# downloading TinyImagenet\n",
        "# you don't have to run this cell more than once\n",
        "\n",
        "\n",
        "data_path = '.'\n",
        "download_tinyImg200(data_path)"
      ],
      "execution_count": null,
      "outputs": [
        {
          "output_type": "stream",
          "text": [
            "./tiny-imagenet-200.zip\n"
          ],
          "name": "stdout"
        }
      ]
    },
    {
      "cell_type": "code",
      "metadata": {
        "id": "KNOuVZnTkWUp"
      },
      "source": [
        "fix_test_data(data_path)"
      ],
      "execution_count": null,
      "outputs": []
    },
    {
      "cell_type": "markdown",
      "metadata": {
        "cellId": "xyur6yosaod4qmh89z4tcc",
        "id": "Llsv8wupj-DM"
      },
      "source": [
        "We will split `tiny-imagenet-200/train` dataset into train and val parts, and use  `tiny-imagenet-200/val` dataset as a test one.\n",
        "\n",
        "You are free to use either the default ImageFolder Dataset, or the custom one, which will read and store the whole data in RAM. The second one is preferable only when you have a slow disk; make sure then you do have an extra couple of GiBs of memory (it also could take some time to load the images):"
      ]
    },
    {
      "cell_type": "markdown",
      "metadata": {
        "id": "4toJpV9um3yI"
      },
      "source": [
        "## Loading Data"
      ]
    },
    {
      "cell_type": "code",
      "metadata": {
        "colab": {
          "base_uri": "https://localhost:8080/",
          "height": 34
        },
        "id": "zz30gem6qAsp",
        "outputId": "645012da-46e7-48ca-a360-28bae3176bde"
      },
      "source": [
        "pwd"
      ],
      "execution_count": null,
      "outputs": [
        {
          "output_type": "execute_result",
          "data": {
            "application/vnd.google.colaboratory.intrinsic+json": {
              "type": "string"
            },
            "text/plain": [
              "'/root'"
            ]
          },
          "metadata": {
            "tags": []
          },
          "execution_count": 9
        }
      ]
    },
    {
      "cell_type": "code",
      "metadata": {
        "id": "bFl6xr-NOT6t"
      },
      "source": [
        "transform_train = transforms.Compose([\n",
        "  #  transforms.RandomResizedCrop(64),\n",
        "   transforms.RandomRotation(15),\n",
        "  #  torchvision.transforms.ColorJitter(hue=.05, saturation=.05),\n",
        "   transforms.RandomHorizontalFlip(),\n",
        "   transforms.ToTensor(),\n",
        "   transforms.Normalize((0.5, 0.5, 0.5), (0.5, 0.5, 0.5)),\n",
        "])\n",
        "\n",
        "transform_test = transforms.Compose([\n",
        "   transforms.ToTensor(),\n",
        "   transforms.Normalize((0.5, 0.5, 0.5), (0.5, 0.5, 0.5)),\n",
        "])"
      ],
      "execution_count": null,
      "outputs": []
    },
    {
      "cell_type": "code",
      "metadata": {
        "cellId": "zkftuthgyzg8r3sy9dbulo",
        "id": "FPVpOOvHj-DM"
      },
      "source": [
        "dataset = torchvision.datasets.ImageFolder('tiny-imagenet-200/train', transform=transform_train)\n",
        "train_dataset, val_dataset = torch.utils.data.random_split(dataset, [80000, 20000],\n",
        "                                                           generator=torch.Generator().manual_seed(42))\n",
        "test_dataset = torchvision.datasets.ImageFolder('tiny-imagenet-200/val', transform=transform_test)\n",
        "\n",
        "# OR\n",
        "\n",
        "# from tiny_img_ram import TinyImagenetRAM\n",
        "# dataset = TinyImagenetRAM('tiny-imagenet-200/train', transform=transforms.ToTensor())\n",
        "# train_dataset, val_dataset = torch.utils.data.random_split(dataset, [80000, 20000],\n",
        "#                                                            generator=torch.Generator().manual_seed(42))\n",
        "# test_dataset = TinyImagenetRAM('tiny-imagenet-200/val', transform=transforms.ToTensor())"
      ],
      "execution_count": null,
      "outputs": []
    },
    {
      "cell_type": "code",
      "metadata": {
        "id": "-K00MvBrj-DN"
      },
      "source": [
        "batch_size = 128\n",
        "train_loader = torch.utils.data.DataLoader(train_dataset, batch_size=batch_size, shuffle=True, num_workers=2)\n",
        "val_loader = torch.utils.data.DataLoader(val_dataset, batch_size=batch_size, shuffle=True, num_workers=2)\n",
        "\n",
        "test_loader = torch.utils.data.DataLoader(test_dataset, batch_size=batch_size, shuffle=False, num_workers=2)"
      ],
      "execution_count": null,
      "outputs": []
    },
    {
      "cell_type": "code",
      "metadata": {
        "colab": {
          "base_uri": "https://localhost:8080/"
        },
        "id": "qkcauDFHoJ0-",
        "outputId": "1829a789-1282-4124-cb57-54140e7a5c32"
      },
      "source": [
        "for X, y in train_loader:\n",
        "  break\n",
        "print(X.shape)\n",
        "print(y.shape)"
      ],
      "execution_count": null,
      "outputs": [
        {
          "output_type": "stream",
          "text": [
            "torch.Size([128, 3, 64, 64])\n",
            "torch.Size([128])\n"
          ],
          "name": "stdout"
        }
      ]
    },
    {
      "cell_type": "markdown",
      "metadata": {
        "id": "eji0inD9nYit"
      },
      "source": [
        "## Implementing Model"
      ]
    },
    {
      "cell_type": "code",
      "metadata": {
        "id": "P1RmcWPSqaMx"
      },
      "source": [
        "n_classes = 200"
      ],
      "execution_count": null,
      "outputs": []
    },
    {
      "cell_type": "code",
      "metadata": {
        "id": "9_KQeRG9npFA"
      },
      "source": [
        "class Vgg11LikeModel(nn.Module):\n",
        "\n",
        "  def __init__(self, n_classes=200):\n",
        "    super(Vgg11LikeModel, self).__init__()\n",
        "    self.layers = nn.Sequential(\n",
        "        nn.Conv2d(in_channels=3, out_channels=64, kernel_size=3, padding=1),\n",
        "        nn.BatchNorm2d(64),\n",
        "        nn.ReLU(),\n",
        "        nn.MaxPool2d(kernel_size=2, stride=2),\n",
        "\n",
        "        nn.Conv2d(in_channels=64, out_channels=128, kernel_size=3, padding=1),\n",
        "        nn.BatchNorm2d(128),\n",
        "        nn.ReLU(),\n",
        "        nn.MaxPool2d(kernel_size=2, stride=2),\n",
        "\n",
        "        nn.Conv2d(in_channels=128, out_channels=256, kernel_size=3, padding=1),\n",
        "        nn.BatchNorm2d(256),\n",
        "        nn.ReLU(),\n",
        "        # nn.Conv2d(in_channels=256, out_channels=256, kernel_size=3, padding=1),\n",
        "        # nn.BatchNorm2d(256),\n",
        "        # nn.ReLU(),\n",
        "        nn.MaxPool2d(kernel_size=2, stride=2),\n",
        "\n",
        "        nn.Conv2d(in_channels=256, out_channels=512, kernel_size=3, padding=1),\n",
        "        nn.BatchNorm2d(512),\n",
        "        nn.ReLU(),\n",
        "        # nn.Conv2d(in_channels=512, out_channels=512, kernel_size=3, padding=1),\n",
        "        # nn.BatchNorm2d(512),\n",
        "        # nn.ReLU(),\n",
        "        nn.MaxPool2d(kernel_size=2, stride=2),\n",
        "        # [batch_size, 512, 4, 4] \n",
        "        \n",
        "        # [batch_size, 8192]\n",
        "        nn.Flatten(),\n",
        "\n",
        "        nn.Linear(8192, 4096),\n",
        "        nn.ReLU(),\n",
        "        # nn.Dropout(p=0.2),\n",
        "\n",
        "        nn.Linear(4096, 4096),\n",
        "        nn.ReLU(),\n",
        "        # nn.Dropout(),\n",
        "\n",
        "        nn.Linear(4096, n_classes)\n",
        "    )\n",
        "\n",
        "  def forward(self, X):\n",
        "    return self.layers(X)"
      ],
      "execution_count": null,
      "outputs": []
    },
    {
      "cell_type": "markdown",
      "metadata": {
        "id": "LXwZE8kHqqet"
      },
      "source": [
        "## Training model"
      ]
    },
    {
      "cell_type": "code",
      "metadata": {
        "id": "LXBRWN9wrFZU"
      },
      "source": [
        "num_epoches = 100\n",
        "eval_every = 300"
      ],
      "execution_count": null,
      "outputs": []
    },
    {
      "cell_type": "code",
      "metadata": {
        "colab": {
          "base_uri": "https://localhost:8080/"
        },
        "id": "l95Oy9RRqp1_",
        "outputId": "7f5e53ae-d8ab-4099-e5d8-6395572b07df"
      },
      "source": [
        "if torch.cuda.is_available():\n",
        "  device = \"cuda\"\n",
        "else:\n",
        "  device = \"cpu\"\n",
        "print(device)"
      ],
      "execution_count": null,
      "outputs": [
        {
          "output_type": "stream",
          "text": [
            "cuda\n"
          ],
          "name": "stdout"
        }
      ]
    },
    {
      "cell_type": "markdown",
      "metadata": {
        "id": "HkU1DvxJN0bK"
      },
      "source": [
        "### Добавить шедулер"
      ]
    },
    {
      "cell_type": "code",
      "metadata": {
        "colab": {
          "base_uri": "https://localhost:8080/",
          "height": 492
        },
        "id": "6koJ6U9nqp6B",
        "outputId": "8df99476-9db2-4fee-b66e-e01f84d6d75c"
      },
      "source": [
        "model =  Vgg11LikeModel().to(device)\n",
        "lr = 2e-3\n",
        "optimizer = torch.optim.Adam(model.parameters(), lr=lr, weight_decay=0.0001)\n",
        "criterion = nn.CrossEntropyLoss()\n",
        "\n",
        "model.train()\n",
        "\n",
        "train_loss, val_loss = [], []\n",
        "train_acc, val_acc = [], []\n",
        "\n",
        "for epoch in range(num_epoches):\n",
        "  if epoch and not epoch % 60:\n",
        "    lr /= 10\n",
        "    optimizer = torch.optim.Adam(model.parameters(), lr=lr)\n",
        "\n",
        "  running_loss_train, num_correct_train, num_samples_train = 0.0, 0.0, 0\n",
        "\n",
        "  for i, data in enumerate(train_loader):\n",
        "    X, y = data[0].to(device), data[1].to(device)\n",
        "    optimizer.zero_grad()\n",
        "\n",
        "    outputs = model(X)\n",
        "    # _, preds = torch.max(outputs, 1)\n",
        "    loss = criterion(outputs, y)\n",
        "\n",
        "    loss.backward()\n",
        "    optimizer.step()\n",
        "\n",
        "    num_samples_train += len(X)\n",
        "    running_loss_train += loss.detach().cpu().item() * len(X)\n",
        "    num_correct_train += sum(outputs.argmax(dim=1) == y)\n",
        "\n",
        "    if not i % eval_every:\n",
        "      train_loss.append(running_loss_train / num_samples_train)\n",
        "      train_acc.append(num_correct_train / num_samples_train)\n",
        "      running_loss_train, num_correct_train, num_samples_train = 0.0, 0.0, 0\n",
        "      # print(f\"epoch {epoch}, iter {i}, train loss = {train_loss[-1]}, \" + \\\n",
        "      #       f\"train acc = {train_acc[-1]}\")\n",
        "\n",
        "      model.eval()\n",
        "      with torch.no_grad():\n",
        "        correct_answers_val, val_loss_value, num_samples_val = 0, 0.0, 0\n",
        "        for data in val_loader:\n",
        "          X, y = data[0].to(device), data[1].to(device)\n",
        "          \n",
        "          outputs = model(X)\n",
        "          loss = criterion(outputs, y)\n",
        "          val_loss_value += loss.item() * len(X)\n",
        "          correct_answers_val += sum(outputs.argmax(dim=1) == y)\n",
        "          num_samples_val += len(X)\n",
        "\n",
        "      val_loss.append(val_loss_value / num_samples_val)\n",
        "      val_acc.append(correct_answers_val / num_samples_val)\n",
        "      \n",
        "      clear_output(True)\n",
        "      print(f\"epoch {epoch}, iter {i}, train loss = {round(float(train_loss[-1]), 4)}, \" + \\\n",
        "            f\"train acc = {round(float(train_acc[-1]), 4)}, \" + \\\n",
        "            f\"val loss = {round(float(val_loss[-1]), 4)}, val acc = {round(float(val_acc[-1]), 4)}\")\n",
        "      plt.figure(figsize=[12, 4])\n",
        "\n",
        "      plt.subplot(1, 2, 1)\n",
        "      plt.ylim((-1, 10))\n",
        "      plt.plot(train_loss, label='train loss')\n",
        "      plt.plot(val_loss, label='val loss')\n",
        "      plt.legend()\n",
        "\n",
        "      plt.subplot(1, 2, 2)\n",
        "      plt.ylim((-0.2, 1.2))\n",
        "      plt.plot(train_acc, label='train accuracy')\n",
        "      plt.plot(val_acc, label='val accuracy')\n",
        "      plt.legend()\n",
        "      plt.show()\n",
        "    \n",
        "    model.train()"
      ],
      "execution_count": null,
      "outputs": [
        {
          "output_type": "stream",
          "text": [
            "epoch 75, iter 0, train loss = 0.6536, train acc = 0.8125, val loss = 3.2448, val acc = 0.4093\n"
          ],
          "name": "stdout"
        },
        {
          "output_type": "display_data",
          "data": {
            "image/png": "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\n",
            "text/plain": [
              "<Figure size 864x288 with 2 Axes>"
            ]
          },
          "metadata": {
            "tags": [],
            "needs_background": "light"
          }
        },
        {
          "output_type": "error",
          "ename": "KeyboardInterrupt",
          "evalue": "ignored",
          "traceback": [
            "\u001b[0;31m---------------------------------------------------------------------------\u001b[0m",
            "\u001b[0;31mKeyboardInterrupt\u001b[0m                         Traceback (most recent call last)",
            "\u001b[0;32m<ipython-input-22-269e2b3516ae>\u001b[0m in \u001b[0;36m<module>\u001b[0;34m()\u001b[0m\n\u001b[1;32m     28\u001b[0m \u001b[0;34m\u001b[0m\u001b[0m\n\u001b[1;32m     29\u001b[0m     \u001b[0mnum_samples_train\u001b[0m \u001b[0;34m+=\u001b[0m \u001b[0mlen\u001b[0m\u001b[0;34m(\u001b[0m\u001b[0mX\u001b[0m\u001b[0;34m)\u001b[0m\u001b[0;34m\u001b[0m\u001b[0;34m\u001b[0m\u001b[0m\n\u001b[0;32m---> 30\u001b[0;31m     \u001b[0mrunning_loss_train\u001b[0m \u001b[0;34m+=\u001b[0m \u001b[0mloss\u001b[0m\u001b[0;34m.\u001b[0m\u001b[0mdetach\u001b[0m\u001b[0;34m(\u001b[0m\u001b[0;34m)\u001b[0m\u001b[0;34m.\u001b[0m\u001b[0mcpu\u001b[0m\u001b[0;34m(\u001b[0m\u001b[0;34m)\u001b[0m\u001b[0;34m.\u001b[0m\u001b[0mitem\u001b[0m\u001b[0;34m(\u001b[0m\u001b[0;34m)\u001b[0m \u001b[0;34m*\u001b[0m \u001b[0mlen\u001b[0m\u001b[0;34m(\u001b[0m\u001b[0mX\u001b[0m\u001b[0;34m)\u001b[0m\u001b[0;34m\u001b[0m\u001b[0;34m\u001b[0m\u001b[0m\n\u001b[0m\u001b[1;32m     31\u001b[0m     \u001b[0mnum_correct_train\u001b[0m \u001b[0;34m+=\u001b[0m \u001b[0msum\u001b[0m\u001b[0;34m(\u001b[0m\u001b[0moutputs\u001b[0m\u001b[0;34m.\u001b[0m\u001b[0margmax\u001b[0m\u001b[0;34m(\u001b[0m\u001b[0mdim\u001b[0m\u001b[0;34m=\u001b[0m\u001b[0;36m1\u001b[0m\u001b[0;34m)\u001b[0m \u001b[0;34m==\u001b[0m \u001b[0my\u001b[0m\u001b[0;34m)\u001b[0m\u001b[0;34m\u001b[0m\u001b[0;34m\u001b[0m\u001b[0m\n\u001b[1;32m     32\u001b[0m \u001b[0;34m\u001b[0m\u001b[0m\n",
            "\u001b[0;31mKeyboardInterrupt\u001b[0m: "
          ]
        }
      ]
    },
    {
      "cell_type": "markdown",
      "metadata": {
        "cellId": "61mhdyw7guo0wuubi3ohc",
        "id": "oS1zMxDQj-DO"
      },
      "source": [
        "When everything is done, please calculate accuracy on `tiny-imagenet-200/val`"
      ]
    },
    {
      "cell_type": "code",
      "metadata": {
        "id": "2pi_1xRfHqur"
      },
      "source": [
        "model.eval()\n",
        "\n",
        "n_correct, n_samples = 0.0, 0.0\n",
        "\n",
        "with torch.no_grad():\n",
        "  for data in test_loader:\n",
        "    X, y = data[0].to(device), data[1].to(device)\n",
        "    outputs = model(X)\n",
        "    n_correct += sum(outputs.argmax(dim=1) == y)\n",
        "    n_samples += len(y)\n",
        "\n",
        "test_accuracy = n_correct / n_samples"
      ],
      "execution_count": null,
      "outputs": []
    },
    {
      "cell_type": "code",
      "metadata": {
        "cellId": "12y9s3qrcpnsur64jcte8g",
        "id": "XkggCWhlj-DO",
        "colab": {
          "base_uri": "https://localhost:8080/"
        },
        "outputId": "a7ff22ce-847d-498c-9588-56056016fddb"
      },
      "source": [
        "print(\"Final results:\")\n",
        "print(\"  test accuracy:\\t\\t{:.2f} %\".format(\n",
        "    test_accuracy * 100))\n",
        "\n",
        "if test_accuracy * 100 > 40:\n",
        "    print(\"Achievement unlocked: 110lvl Warlock!\")\n",
        "elif test_accuracy * 100 > 35:\n",
        "    print(\"Achievement unlocked: 80lvl Warlock!\")\n",
        "elif test_accuracy * 100 > 30:\n",
        "    print(\"Achievement unlocked: 70lvl Warlock!\")\n",
        "elif test_accuracy * 100 > 25:\n",
        "    print(\"Achievement unlocked: 60lvl Warlock!\")\n",
        "else:\n",
        "    print(\"We need more magic! Follow instructons below\")"
      ],
      "execution_count": null,
      "outputs": [
        {
          "output_type": "stream",
          "text": [
            "Final results:\n",
            "  test accuracy:\t\t41.19 %\n",
            "Achievement unlocked: 110lvl Warlock!\n"
          ],
          "name": "stdout"
        }
      ]
    },
    {
      "cell_type": "code",
      "metadata": {
        "id": "6T5tTA14RaKM",
        "colab": {
          "base_uri": "https://localhost:8080/"
        },
        "outputId": "ffa42f79-14c7-47d4-daf4-f2d8fed4a3d2"
      },
      "source": [
        "cd ../content/drive/MyDrive/shad/Practical_DL/homework02/"
      ],
      "execution_count": null,
      "outputs": [
        {
          "output_type": "stream",
          "text": [
            "/content/drive/MyDrive/shad/Practical_DL/homework02\n"
          ],
          "name": "stdout"
        }
      ]
    },
    {
      "cell_type": "code",
      "metadata": {
        "id": "LrDxh8S_Re5c"
      },
      "source": [
        "torch.save(model.state_dict(), \"vgg16_teacher.pt\")"
      ],
      "execution_count": null,
      "outputs": []
    },
    {
      "cell_type": "markdown",
      "metadata": {
        "cellId": "yr08a2dr7ymtgsrdtpx4cf",
        "id": "IGZa3DKrj-DP"
      },
      "source": [
        "```\n",
        "\n",
        "```\n",
        "\n",
        "```\n",
        "\n",
        "```\n",
        "\n",
        "```\n",
        "\n",
        "```\n",
        "\n",
        "\n",
        "# Report"
      ]
    },
    {
      "cell_type": "markdown",
      "metadata": {
        "id": "Wr8e67tRaVVP"
      },
      "source": [
        "__Hi, my name is Igor Medvedev, and here's story about my perfecto masterpiece__\n",
        "\n",
        "A long time ago in a semester far far away, when I was still 1-year student of SHAD more than an hour before the deadline, i got an idea:\n",
        "\n",
        "__I gonna build a neural network, that will make the world better:__\n",
        "* As we say in Russia: \"Я человек простой, хочу выучить нейросеть -- выбираю VGG\" (\"I am a simple person, I want to learn a neural network - I choose VGG\").  I though that I should use smth simple, so I copied VGG11 architecture, added batchnorm in it because we are living in 2k21.\n",
        "* I had some troubles with its training, so I decided to make it more simple and delete about half of conv layers.\n",
        "* After that training process became better, but not good enough. \n",
        "* I came back to the task description and found out, that using dropout may be tricky. So I deleted it too. Also I saw on train and val accuracy cuves and understood that there was big overfitting, so I added weight decay into Adam to regularize my network. Value I found in VGG origanal paper.\n",
        "* After that I bacame almost perfect. So I found best hyper params and here we are.\n",
        "\n",
        "__Finally, after about 10-15  iterations, infinite mugs of coffee and 10 series BoJack Horseman series watched I've got my perfect MLG-SWAG-BLM-Neural-Network-Arcitecure (this name is still even more better than 80% of names in articles in arxive):__\n",
        "* Architecture is shallower and simplier version of VGG11 with less number of layers and without dropout, with added BatchNorm.\n",
        "* I've used Adam optimizer with weight decay=0.0001, initial lr=2e-3, dropped lr value by factor 10 after 60th epoch.\n",
        "\n",
        "__That, having wasted 3 days of my life training, got__\n",
        "\n",
        "* accuracy on training: 0.8125\n",
        "* accuracy on validation: 0.4093\n",
        "* accuracy on test: 0.4119\n"
      ]
    },
    {
      "cell_type": "code",
      "metadata": {
        "id": "_XSXU1nJaTid"
      },
      "source": [
        ""
      ],
      "execution_count": null,
      "outputs": []
    }
  ]
}
=======
  {
   "cell_type": "markdown",
   "metadata": {
    "cellId": "wxpnt6bj6ame9olh8ah1j"
   },
   "source": [
    "(please read it at least diagonally)\n",
    "\n",
    "* The ultimate quest is to create a network that has as high __accuracy__ as you can push it.\n",
    "* There is a __mini-report__ at the end that you will have to fill in. We recommend reading it first and filling it while you iterate.\n",
    " \n",
    "## Grading\n",
    "* starting at zero points\n",
    "* +20% for describing your iteration path in a report below.\n",
    "* +20% for building a network that gets above 20% accuracy\n",
    "* +10% for beating each of these milestones on __TEST__ dataset:\n",
    "    * 25% (50% points)\n",
    "    * 30% (60% points)\n",
    "    * 32.5% (70% points)\n",
    "    * 35% (80% points)\n",
    "    * 37.5% (90% points)\n",
    "    * 40% (full points)\n",
    "    \n",
    "## Restrictions\n",
    "* Please do NOT use pre-trained networks for this assignment until you reach 40%.\n",
    " * In other words, base milestones must be beaten without pre-trained nets (and such net must be present in the anytask atttachments). After that, you can use whatever you want.\n",
    "* you __can't__ do anything with validation data apart from running the evaluation procedure. Please, split train images on train and validation parts\n",
    "\n",
    "## Tips on what can be done:\n",
    "\n",
    "\n",
    " * __Network size__\n",
    "   * MOAR neurons, \n",
    "   * MOAR layers, ([torch.nn docs](http://pytorch.org/docs/master/nn.html))\n",
    "\n",
    "   * Nonlinearities in the hidden layers\n",
    "     * tanh, relu, leaky relu, etc\n",
    "   * Larger networks may take more epochs to train, so don't discard your net just because it could didn't beat the baseline in 5 epochs.\n",
    "\n",
    "   * Ph'nglui mglw'nafh Cthulhu R'lyeh wgah'nagl fhtagn!\n",
    "\n",
    "\n",
    "### The main rule of prototyping: one change at a time\n",
    "   * By now you probably have several ideas on what to change. By all means, try them out! But there's a catch: __never test several new things at once__.\n",
    "\n",
    "\n",
    "### Optimization\n",
    "   * Training for 100 epochs regardless of anything is probably a bad idea.\n",
    "   * Some networks converge over 5 epochs, others - over 500.\n",
    "   * Way to go: stop when validation score is 10 iterations past maximum\n",
    "   * You should certainly use adaptive optimizers\n",
    "     * rmsprop, nesterov_momentum, adam, adagrad and so on.\n",
    "     * Converge faster and sometimes reach better optima\n",
    "     * It might make sense to tweak learning rate/momentum, other learning parameters, batch size and number of epochs\n",
    "   * __BatchNormalization__ (nn.BatchNorm2d) for the win!\n",
    "     * Sometimes more batch normalization is better.\n",
    "   * __Regularize__ to prevent overfitting\n",
    "     * Add some L2 weight norm to the loss function, PyTorch will do the rest\n",
    "       * Can be done manually or like [this](https://discuss.pytorch.org/t/simple-l2-regularization/139/2).\n",
    "     * Dropout (`nn.Dropout`) - to prevent overfitting\n",
    "       * Don't overdo it. Check if it actually makes your network better\n",
    "   \n",
    "### Convolution architectures\n",
    "   * This task __can__ be solved by a sequence of convolutions and poolings with batch_norm and ReLU seasoning, but you shouldn't necessarily stop there.\n",
    "   * [Inception family](https://hacktilldawn.com/2016/09/25/inception-modules-explained-and-implemented/), [ResNet family](https://towardsdatascience.com/an-overview-of-resnet-and-its-variants-5281e2f56035?gi=9018057983ca), [Densely-connected convolutions (exotic)](https://arxiv.org/abs/1608.06993), [Capsule networks (exotic)](https://arxiv.org/abs/1710.09829)\n",
    "   * Please do try a few simple architectures before you go for resnet-152.\n",
    "   * Warning! Training convolutional networks can take long without GPU. That's okay.\n",
    "     * If you are CPU-only, we still recomment that you try a simple convolutional architecture\n",
    "     * a perfect option is if you can set it up to run at nighttime and check it up at the morning.\n",
    "     * Make reasonable layer size estimates. A 128-neuron first convolution is likely an overkill.\n",
    "     * __To reduce computation__ time by a factor in exchange for some accuracy drop, try using __stride__ parameter. A stride=2 convolution should take roughly 1/4 of the default (stride=1) one.\n",
    " \n",
    "   \n",
    "### Data augmemntation\n",
    "   * getting 5x as large dataset for free is a great \n",
    "     * Zoom-in+slice = move\n",
    "     * Rotate+zoom(to remove black stripes)\n",
    "     * Add Noize (gaussian or bernoulli)\n",
    "   * Simple way to do that (if you have PIL/Image): \n",
    "     * ```from scipy.misc import imrotate,imresize```\n",
    "     * and a few slicing\n",
    "     * Other cool libraries: cv2, skimake, PIL/Pillow\n",
    "   * A more advanced way is to use torchvision transforms:\n",
    "   \n",
    "    ```\n",
    "    transform_train = transforms.Compose([\n",
    "        transforms.RandomCrop(32, padding=4),\n",
    "        transforms.RandomHorizontalFlip(),\n",
    "        transforms.ToTensor(),\n",
    "        transforms.Normalize((0.4914, 0.4822, 0.4465), (0.2023, 0.1994, 0.2010)),\n",
    "    ])\n",
    "    trainset = torchvision.datasets.ImageFolder(root=path_to_tiny_imagenet, train=True, download=True, transform=transform_train)\n",
    "    trainloader = torch.utils.data.DataLoader(trainset, batch_size=128, shuffle=True, num_workers=2)\n",
    "    ```\n",
    "   \n",
    "   * Or use this tool from Keras (requires theano/tensorflow): [tutorial](https://blog.keras.io/building-powerful-image-classification-models-using-very-little-data.html), [docs](https://keras.io/preprocessing/image/)\n",
    "   * [Albumentations](https://github.com/albumentations-team/albumentations) is another awesome solution.\n",
    "   * Stay realistic. There's usually no point in flipping dogs upside down as that is not the way you usually see them.  \n",
    "    * But sometimes there is! Some examples of advanced image augmentation approaches: [mixup](https://arxiv.org/pdf/1710.09412.pdf), [cutmix](https://arxiv.org/pdf/1905.04899.pdf)   "
   ]
  },
  {
   "cell_type": "code",
   "execution_count": null,
   "metadata": {
    "cellId": "xkaa3usdky9sfz7upl02w"
   },
   "outputs": [],
   "source": [
    "import numpy as np\n",
    "import matplotlib.pyplot as plt\n",
    "%matplotlib inline\n",
    "\n",
    "import torch, torch.nn as nn, torch.nn.functional as F\n",
    "from torch.utils.data import Dataset, DataLoader\n",
    "import torchvision, torchvision.transforms as transforms\n",
    "\n",
    "# Uncomment this to disable \"Skipping walk through <class 'list'>\" warnings in DataSphere's env\n",
    "# %enable_full_walk"
   ]
  },
  {
   "cell_type": "code",
   "execution_count": null,
   "metadata": {
    "cellId": "mqe3vhwr7q85q3bi0b3rg"
   },
   "outputs": [],
   "source": [
    "# downloading TinyImagenet\n",
    "# you don't have to run this cell more than once\n",
    "\n",
    "from tiny_img import download_tinyImg200, fix_test_data\n",
    "data_path = '.'\n",
    "download_tinyImg200(data_path)\n",
    "fix_test_data(data_path)"
   ]
  },
  {
   "cell_type": "markdown",
   "metadata": {
    "cellId": "xyur6yosaod4qmh89z4tcc"
   },
   "source": [
    "We will split `tiny-imagenet-200/train` dataset into train and val parts, and use  `tiny-imagenet-200/val` dataset as a test one.\n",
    "\n",
    "You are free to use either the default ImageFolder Dataset, or the custom one, which will read and store the whole data in RAM. The second one is preferable only when you have a slow disk; make sure then you do have an extra couple of GiBs of memory (it also could take some time to load the images):"
   ]
  },
  {
   "cell_type": "code",
   "execution_count": null,
   "metadata": {
    "cellId": "zkftuthgyzg8r3sy9dbulo"
   },
   "outputs": [],
   "source": [
    "import os\n",
    "imagenet_dir = os.path.join(data_path, 'tiny-imagenet-200')\n",
    "dataset = torchvision.datasets.ImageFolder(imagenet_dir + '/train', transform=transforms.ToTensor())\n",
    "train_dataset, val_dataset = torch.utils.data.random_split(dataset, [80000, 20000],\n",
    "                                                           generator=torch.Generator().manual_seed(42))\n",
    "test_dataset = torchvision.datasets.ImageFolder(imagenet_dir + '/val', transform=transforms.ToTensor())\n",
    "\n",
    "# OR\n",
    "\n",
    "# from tiny_img_ram import TinyImagenetRAM\n",
    "# dataset = TinyImagenetRAM('tiny-imagenet-200/train', transform=transforms.ToTensor())\n",
    "# train_dataset, val_dataset = torch.utils.data.random_split(dataset, [80000, 20000],\n",
    "#                                                            generator=torch.Generator().manual_seed(42))\n",
    "# test_dataset = TinyImagenetRAM('tiny-imagenet-200/val', transform=transforms.ToTensor())"
   ]
  },
  {
   "cell_type": "code",
   "execution_count": null,
   "metadata": {},
   "outputs": [],
   "source": [
    "# feel free to copypaste code from seminar03 as a basic template for training"
   ]
  },
  {
   "cell_type": "code",
   "execution_count": null,
   "metadata": {},
   "outputs": [],
   "source": []
  },
  {
   "cell_type": "code",
   "execution_count": null,
   "metadata": {},
   "outputs": [],
   "source": []
  },
  {
   "cell_type": "markdown",
   "metadata": {
    "cellId": "61mhdyw7guo0wuubi3ohc"
   },
   "source": [
    "When everything is done, please calculate accuracy on `tiny-imagenet-200/val`"
   ]
  },
  {
   "cell_type": "code",
   "execution_count": null,
   "metadata": {
    "cellId": "9om7xr4hledgg42mo0h6r6"
   },
   "outputs": [],
   "source": [
    "test_accuracy = test_acc # YOUR CODE"
   ]
  },
  {
   "cell_type": "code",
   "execution_count": null,
   "metadata": {
    "cellId": "12y9s3qrcpnsur64jcte8g"
   },
   "outputs": [],
   "source": [
    "print(\"Final results:\")\n",
    "print(\"  test accuracy:\\t\\t{:.2f} %\".format(\n",
    "    test_accuracy * 100))\n",
    "\n",
    "if test_accuracy * 100 > 40:\n",
    "    print(\"Achievement unlocked: 110lvl Warlock!\")\n",
    "elif test_accuracy * 100 > 35:\n",
    "    print(\"Achievement unlocked: 80lvl Warlock!\")\n",
    "elif test_accuracy * 100 > 30:\n",
    "    print(\"Achievement unlocked: 70lvl Warlock!\")\n",
    "elif test_accuracy * 100 > 25:\n",
    "    print(\"Achievement unlocked: 60lvl Warlock!\")\n",
    "else:\n",
    "    print(\"We need more magic! Follow instructons below\")"
   ]
  },
  {
   "cell_type": "markdown",
   "metadata": {
    "cellId": "yr08a2dr7ymtgsrdtpx4cf"
   },
   "source": [
    "```\n",
    "\n",
    "```\n",
    "\n",
    "```\n",
    "\n",
    "```\n",
    "\n",
    "```\n",
    "\n",
    "```\n",
    "\n",
    "\n",
    "# Report\n",
    "\n",
    "All creative approaches are highly welcome, but at the very least it would be great to mention\n",
    "* the idea;\n",
    "* brief history of tweaks and improvements;\n",
    "* what is the final architecture and why?\n",
    "* what is the training method and, again, why?\n",
    "* Any regularizations and other techniques applied and their effects;\n",
    "\n",
    "\n",
    "There is no need to write strict mathematical proofs (unless you want to).\n",
    " * \"I tried this, this and this, and the second one turned out to be better. And i just didn't like the name of that one\" - OK, but can be better\n",
    " * \"I have analized these and these articles|sources|blog posts, tried that and that to adapt them to my problem and the conclusions are such and such\" - the ideal one\n",
    " * \"I took that code that demo without understanding it, but i'll never confess that and instead i'll make up some pseudoscientific explaination\" - __not_ok__"
   ]
  },
  {
   "cell_type": "markdown",
   "metadata": {
    "cellId": "5o8ejms08zgpm096pducuk"
   },
   "source": [
    "### Hi, my name is `___ ___`, and here's my story\n",
    "\n",
    "A long time ago in a galaxy far far away, when it was still more than an hour before the deadline, i got an idea:\n",
    "\n",
    "##### I gonna build a neural network, that\n",
    "* brief text on what was\n",
    "* the original idea\n",
    "* and why it was so\n",
    "\n",
    "How could i be so naive?!\n",
    "\n",
    "##### One day, with no signs of warning,\n",
    "This thing has finally converged and\n",
    "* Some explaination about what were the results,\n",
    "* what worked and what didn't\n",
    "* most importantly - what next steps were taken, if any\n",
    "* and what were their respective outcomes\n",
    "\n",
    "##### Finally, after __  iterations, __ mugs of [tea/coffee]\n",
    "* what was the final architecture\n",
    "* as well as training method and tricks\n",
    "\n",
    "That, having wasted ____ [minutes, hours or days] of my life training, got\n",
    "\n",
    "* accuracy on training: __\n",
    "* accuracy on validation: __\n",
    "* accuracy on test: __\n",
    "\n",
    "\n",
    "[an optional afterword and mortal curses on assignment authors]"
   ]
  }
 ],
 "metadata": {
  "kernelspec": {
   "display_name": "Python 3",
   "language": "python",
   "name": "python3"
  },
  "language_info": {
   "codemirror_mode": {
    "name": "ipython",
    "version": 3
   },
   "file_extension": ".py",
   "mimetype": "text/x-python",
   "name": "python",
   "nbconvert_exporter": "python",
   "pygments_lexer": "ipython3",
   "version": "3.9.2"
  },
  "notebookId": "65f9de61-b446-4240-9ae4-a038dd4de505"
 },
 "nbformat": 4,
 "nbformat_minor": 4
}
>>>>>>> 76c067db750502f90b287eda800cda6107dc15cd
