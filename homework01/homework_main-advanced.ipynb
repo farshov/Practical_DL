{
 "cells": [
  {
   "cell_type": "markdown",
   "metadata": {
    "cellId": "qip149gh09oy95qtzvnmuh"
   },
   "source": [
    "# Homework: Not So Basic Artificial Neural Networks"
   ]
  },
  {
   "cell_type": "markdown",
   "metadata": {
    "cellId": "5k3d1wu7ycqvyxyjrakha"
   },
   "source": [
    "Your task is to implement a simple framework for convolutional neural networks training. While convolutional neural networks is a subject of lecture 3, we expect that there are a lot of students who are familiar with the topic.\n",
    "\n",
    "In order to successfully pass this homework, you will have to:\n",
    "\n",
    "- Implement all the blocks in `homework_modules.ipynb` (esp `Conv2d` and `MaxPool2d` layers). Good implementation should pass all the tests in `homework_test_modules.ipynb`.\n",
    "- Settle with a bit of math in `homework_differentiation.ipynb`\n",
    "- Train a CNN that has at least one `Conv2d` layer, `MaxPool2d` layer and `BatchNormalization` layer and achieves at least 97% accuracy on MNIST test set.\n",
    "\n",
    "Feel free to use `homework_main-basic.ipynb` for debugging or as source of code snippets. "
   ]
  },
  {
   "cell_type": "markdown",
   "metadata": {
    "cellId": "lkcslkmsl1kb91ytti9c"
   },
   "source": [
    "Note, that this homework requires sending **multiple** files, please do not forget to include all the files when sending to TA. The list of files:\n",
    "- This notebook with cnn trained\n",
    "- `homework_modules.ipynb`\n",
    "- `homework_differentiation.ipynb`"
   ]
  },
  {
   "cell_type": "code",
   "execution_count": 78,
   "metadata": {
    "cellId": "uxi4e6g4pbk5i1pzln6kgn"
   },
   "outputs": [],
   "source": [
    "%matplotlib inline\n",
    "from time import time, sleep\n",
    "import numpy as np\n",
    "import matplotlib.pyplot as plt\n",
    "from IPython import display\n",
    "\n",
    "from sklearn.metrics import accuracy_score\n",
    "\n",
    "from tqdm import tqdm"
   ]
  },
  {
   "cell_type": "code",
   "execution_count": 79,
   "metadata": {
    "cellId": "5njeo1rc8zoedawbgntjm",
    "collapsed": true
   },
   "outputs": [
    {
     "name": "stdout",
     "output_type": "stream",
     "text": [
      "Defaulting to user installation because normal site-packages is not writeable\n",
      "Requirement already satisfied: scikit-image in /home/jupyter/.local/lib/python3.7/site-packages (0.18.1)\n",
      "Requirement already satisfied: pillow!=7.1.0,!=7.1.1,>=4.3.0 in /usr/local/lib/python3.7/dist-packages (from scikit-image) (6.2.2)\n",
      "Requirement already satisfied: scipy>=1.0.1 in /usr/local/lib/python3.7/dist-packages (from scikit-image) (1.4.1)\n",
      "Requirement already satisfied: imageio>=2.3.0 in /home/jupyter/.local/lib/python3.7/site-packages (from scikit-image) (2.9.0)\n",
      "Requirement already satisfied: networkx>=2.0 in /usr/local/lib/python3.7/dist-packages (from scikit-image) (2.4)\n",
      "Requirement already satisfied: matplotlib!=3.0.0,>=2.0.0 in /usr/local/lib/python3.7/dist-packages (from scikit-image) (3.1.3)\n",
      "Requirement already satisfied: PyWavelets>=1.1.1 in /home/jupyter/.local/lib/python3.7/site-packages (from scikit-image) (1.1.1)\n",
      "Requirement already satisfied: tifffile>=2019.7.26 in /home/jupyter/.local/lib/python3.7/site-packages (from scikit-image) (2021.2.1)\n",
      "Requirement already satisfied: numpy>=1.16.5 in /usr/local/lib/python3.7/dist-packages (from scikit-image) (1.19.1)\n",
      "Requirement already satisfied: pyparsing!=2.0.4,!=2.1.2,!=2.1.6,>=2.0.1 in /usr/local/lib/python3.7/dist-packages (from matplotlib!=3.0.0,>=2.0.0->scikit-image) (2.4.7)\n",
      "Requirement already satisfied: python-dateutil>=2.1 in /usr/local/lib/python3.7/dist-packages (from matplotlib!=3.0.0,>=2.0.0->scikit-image) (2.8.1)\n",
      "Requirement already satisfied: kiwisolver>=1.0.1 in /usr/local/lib/python3.7/dist-packages (from matplotlib!=3.0.0,>=2.0.0->scikit-image) (1.3.1)\n",
      "Requirement already satisfied: cycler>=0.10 in /usr/local/lib/python3.7/dist-packages (from matplotlib!=3.0.0,>=2.0.0->scikit-image) (0.10.0)\n",
      "Requirement already satisfied: six in /usr/local/lib/python3.7/dist-packages (from cycler>=0.10->matplotlib!=3.0.0,>=2.0.0->scikit-image) (1.15.0)\n",
      "Requirement already satisfied: decorator>=4.3.0 in /usr/local/lib/python3.7/dist-packages (from networkx>=2.0->scikit-image) (4.4.2)\n",
      "\u001b[33mWARNING: You are using pip version 20.3.3; however, version 21.0.1 is available.\n",
      "You should consider upgrading via the '/usr/bin/python3.7 -m pip install --upgrade pip' command.\u001b[0m\n"
     ]
    }
   ],
   "source": [
    "%pip install scikit-image"
   ]
  },
  {
   "cell_type": "code",
   "execution_count": 80,
   "metadata": {
    "cellId": "7btm4vhre8ajl5lsdwaav"
   },
   "outputs": [],
   "source": [
    "# (re-)load layers\n",
    "%run homework_modules.ipynb"
   ]
  },
  {
   "cell_type": "code",
   "execution_count": 81,
   "metadata": {
    "cellId": "uaf70fc46fr9ad88q4smi5"
   },
   "outputs": [],
   "source": [
    "# batch generator\n",
    "def get_batches(dataset, batch_size):\n",
    "    X, Y = dataset\n",
    "    n_samples = X.shape[0]\n",
    "        \n",
    "    # Shuffle at the start of epoch\n",
    "    indices = np.arange(n_samples)\n",
    "    np.random.shuffle(indices)\n",
    "    \n",
    "    for start in range(0, n_samples, batch_size):\n",
    "        end = min(start + batch_size, n_samples)\n",
    "        \n",
    "        batch_idx = indices[start:end]\n",
    "    \n",
    "        yield X[batch_idx], Y[batch_idx]"
   ]
  },
  {
   "cell_type": "code",
   "execution_count": 82,
   "metadata": {
    "cellId": "siffi1fxpfi3b6gha01wj9"
   },
   "outputs": [],
   "source": [
    "import mnist\n",
    "X_train, y_train, X_val, y_val, X_test, y_test = mnist.load_dataset()  # your dataset"
   ]
  },
  {
   "cell_type": "code",
   "execution_count": 12,
   "metadata": {
    "cellId": "t8dwfni1ypjy77q8wtz63"
   },
   "outputs": [],
   "source": [
    "# Your turn - train and evaluate conv neural network"
   ]
  },
  {
   "cell_type": "code",
   "execution_count": 83,
   "metadata": {
    "cellId": "ajs1yhg28jfdwjls09yp7"
   },
   "outputs": [],
   "source": [
    "n_classes = 10"
   ]
  },
  {
   "cell_type": "code",
   "execution_count": 84,
   "metadata": {
    "cellId": "85ukwxibgwqhd171wnh2r6"
   },
   "outputs": [],
   "source": [
    "nonlinearity = ReLU  # ELU\n",
    "\n",
    "model = Sequential()\n",
    "\n",
    "model.add(Conv2d(in_channels=1, out_channels=8, kernel_size=3))\n",
    "model.add(Dropout(p=0.5))\n",
    "model.add(nonlinearity())\n",
    "\n",
    "model.add(MaxPool2d(kernel_size=2))  # size: [batch, 60, 7, 7]\n",
    "\n",
    "model.add(Conv2d(in_channels=8, out_channels=16, kernel_size=3))\n",
    "model.add(Dropout(p=0.5))\n",
    "model.add(nonlinearity())\n",
    "\n",
    "model.add(MaxPool2d(kernel_size=2))  # size: [batch, 60, 7, 7]\n",
    "\n",
    "model.add(Flatten())  # size: [batch, 80 * 7 * 7]\n",
    "\n",
    "model.add(Linear(n_in=16*7*7, n_out=450))\n",
    "model.add(nonlinearity())\n",
    "model.add(BatchNormalization(alpha=0.9))\n",
    "model.add(ChannelwiseScaling(n_out=450))\n",
    "\n",
    "model.add(Linear(n_in=450, n_out=300))\n",
    "model.add(nonlinearity())\n",
    "model.add(BatchNormalization(alpha=0.9))\n",
    "model.add(ChannelwiseScaling(n_out=300))\n",
    "\n",
    "model.add(Linear(n_in=300, n_out=200))\n",
    "model.add(nonlinearity())\n",
    "model.add(BatchNormalization(alpha=0.9))\n",
    "model.add(ChannelwiseScaling(n_out=200))\n",
    "\n",
    "model.add(Linear(n_in=200, n_out=100))\n",
    "model.add(nonlinearity())\n",
    "model.add(BatchNormalization(alpha=0.9))\n",
    "model.add(ChannelwiseScaling(n_out=100))\n",
    "\n",
    "model.add(Linear(n_in=100, n_out=n_classes))\n",
    "model.add(LogSoftMax())"
   ]
  },
  {
   "cell_type": "code",
   "execution_count": 87,
   "metadata": {
    "cellId": "bhygin1ivotyv162yi1pgj"
   },
   "outputs": [],
   "source": [
    "criterion = ClassNLLCriterion()\n",
    "\n",
    "optimizer = adam_optimizer\n",
    "state = {}  \n",
    "config = {'learning_rate': 1e-2, 'beta1': 0.9, 'beta2':0.999, 'epsilon':1e-8}\n",
    "\n",
    "n_epochs = 4\n",
    "\n",
    "batch_size = 32\n",
    "print_every = 100\n"
   ]
  },
  {
   "cell_type": "code",
   "execution_count": 88,
   "metadata": {
    "cellId": "f3no3hkdzbhwrkn5ay4ma"
   },
   "outputs": [
    {
     "name": "stderr",
     "output_type": "stream",
     "text": [
      "  0%|          | 0/1560 [00:00<?, ?it/s]"
     ]
    },
    {
     "name": "stdout",
     "output_type": "stream",
     "text": [
      "_____\n",
      "epoch = 1\n"
     ]
    },
    {
     "name": "stderr",
     "output_type": "stream",
     "text": [
      "  6%|▋         | 101/1560 [00:56<12:48,  1.90it/s]"
     ]
    },
    {
     "name": "stdout",
     "output_type": "stream",
     "text": [
      "batch number 100, loss = 1.9484223803424414\n"
     ]
    },
    {
     "name": "stderr",
     "output_type": "stream",
     "text": [
      " 13%|█▎        | 201/1560 [01:50<12:08,  1.86it/s]"
     ]
    },
    {
     "name": "stdout",
     "output_type": "stream",
     "text": [
      "batch number 200, loss = 0.8223658088519105\n"
     ]
    },
    {
     "name": "stderr",
     "output_type": "stream",
     "text": [
      " 19%|█▊        | 292/1560 [02:38<11:13,  1.88it/s]"
     ]
    },
    {
     "name": "stdout",
     "output_type": "stream",
     "text": [
      "batch number 300, loss = 0.47750294081800754\n"
     ]
    },
    {
     "name": "stderr",
     "output_type": "stream",
     "text": [
      " 20%|█▉        | 311/1560 [02:49<11:14,  1.85it/s]"
     ]
    },
    {
     "name": "stdout",
     "output_type": "stream",
     "text": [
      "batch number 400, loss = 0.352127264268867\n"
     ]
    },
    {
     "name": "stderr",
     "output_type": "stream",
     "text": [
      " 32%|███▏      | 501/1560 [04:30<09:20,  1.89it/s]"
     ]
    },
    {
     "name": "stdout",
     "output_type": "stream",
     "text": [
      "batch number 500, loss = 0.3373278604064134\n"
     ]
    },
    {
     "name": "stderr",
     "output_type": "stream",
     "text": [
      " 38%|███▊      | 600/1560 [05:24<08:30,  1.88it/s]"
     ]
    },
    {
     "name": "stdout",
     "output_type": "stream",
     "text": [
      "batch number 600, loss = 0.2599499510528589\n"
     ]
    },
    {
     "name": "stderr",
     "output_type": "stream",
     "text": [
      " 44%|████▍     | 684/1560 [06:09<07:42,  1.89it/s]"
     ]
    },
    {
     "name": "stdout",
     "output_type": "stream",
     "text": [
      "batch number 700, loss = 0.23564697361274342\n"
     ]
    },
    {
     "name": "stderr",
     "output_type": "stream",
     "text": [
      " 51%|█████▏    | 801/1560 [07:12<06:43,  1.88it/s]"
     ]
    },
    {
     "name": "stdout",
     "output_type": "stream",
     "text": [
      "batch number 800, loss = 0.23636203712581305\n"
     ]
    },
    {
     "name": "stderr",
     "output_type": "stream",
     "text": [
      " 58%|█████▊    | 900/1560 [08:05<05:55,  1.86it/s]"
     ]
    },
    {
     "name": "stdout",
     "output_type": "stream",
     "text": [
      "batch number 900, loss = 0.23369812952953073\n"
     ]
    },
    {
     "name": "stderr",
     "output_type": "stream",
     "text": [
      " 64%|██████▍   | 1000/1560 [09:00<05:00,  1.86it/s]"
     ]
    },
    {
     "name": "stdout",
     "output_type": "stream",
     "text": [
      "batch number 1000, loss = 0.22921760344959072\n"
     ]
    },
    {
     "name": "stderr",
     "output_type": "stream",
     "text": [
      " 71%|███████   | 1100/1560 [09:53<04:00,  1.91it/s]"
     ]
    },
    {
     "name": "stdout",
     "output_type": "stream",
     "text": [
      "batch number 1100, loss = 0.21313579125205323\n"
     ]
    },
    {
     "name": "stderr",
     "output_type": "stream",
     "text": [
      " 77%|███████▋  | 1200/1560 [10:46<03:42,  1.62it/s]"
     ]
    },
    {
     "name": "stdout",
     "output_type": "stream",
     "text": [
      "batch number 1200, loss = 0.17858843911432293\n"
     ]
    },
    {
     "name": "stderr",
     "output_type": "stream",
     "text": [
      " 77%|███████▋  | 1201/1560 [10:47<03:33,  1.68it/s]"
     ]
    },
    {
     "name": "stdout",
     "output_type": "stream",
     "text": [
      "batch number 1200, loss = 0.17858843911432293\n"
     ]
    },
    {
     "name": "stderr",
     "output_type": "stream",
     "text": [
      " 83%|████████▎ | 1301/1560 [11:40<02:25,  1.78it/s]"
     ]
    },
    {
     "name": "stdout",
     "output_type": "stream",
     "text": [
      "batch number 1300, loss = 0.20180475748684365\n"
     ]
    },
    {
     "name": "stderr",
     "output_type": "stream",
     "text": [
      " 90%|████████▉ | 1400/1560 [12:34<01:26,  1.86it/s]"
     ]
    },
    {
     "name": "stdout",
     "output_type": "stream",
     "text": [
      "batch number 1400, loss = 0.18832178183012235\n"
     ]
    },
    {
     "name": "stderr",
     "output_type": "stream",
     "text": [
      " 96%|█████████▌| 1496/1560 [13:26<00:33,  1.88it/s]"
     ]
    },
    {
     "name": "stdout",
     "output_type": "stream",
     "text": [
      "batch number 1500, loss = 0.1999692544742342\n"
     ]
    },
    {
     "name": "stderr",
     "output_type": "stream",
     "text": [
      "100%|█████████▉| 1558/1560 [14:00<00:01,  1.86it/s]"
     ]
    },
    {
     "name": "stdout",
     "output_type": "stream",
     "text": [
      "_____\n",
      "epoch = 2\n"
     ]
    },
    {
     "name": "stderr",
     "output_type": "stream",
     "text": [
      "100%|██████████| 1560/1560 [14:01<00:00,  1.85it/s]\n",
      "  0%|          | 0/1560 [00:00<?, ?it/s]"
     ]
    },
    {
     "name": "stdout",
     "output_type": "stream",
     "text": [
      "_____\n",
      "epoch = 2\n"
     ]
    },
    {
     "name": "stderr",
     "output_type": "stream",
     "text": [
      "  6%|▋         | 99/1560 [00:53<12:55,  1.88it/s]"
     ]
    },
    {
     "name": "stdout",
     "output_type": "stream",
     "text": [
      "batch number 100, loss = 0.16248538039989074\n"
     ]
    },
    {
     "name": "stderr",
     "output_type": "stream",
     "text": [
      "  6%|▋         | 101/1560 [00:54<13:00,  1.87it/s]"
     ]
    },
    {
     "name": "stdout",
     "output_type": "stream",
     "text": [
      "batch number 100, loss = 0.16248538039989074\n"
     ]
    },
    {
     "name": "stderr",
     "output_type": "stream",
     "text": [
      " 12%|█▏        | 193/1560 [01:43<13:50,  1.65it/s]"
     ]
    },
    {
     "name": "stdout",
     "output_type": "stream",
     "text": [
      "batch number 200, loss = 0.14207808449228404\n"
     ]
    },
    {
     "name": "stderr",
     "output_type": "stream",
     "text": [
      " 19%|█▉        | 300/1560 [02:40<12:09,  1.73it/s]"
     ]
    },
    {
     "name": "stdout",
     "output_type": "stream",
     "text": [
      "batch number 300, loss = 0.16546558996294106\n"
     ]
    },
    {
     "name": "stderr",
     "output_type": "stream",
     "text": [
      " 25%|██▍       | 389/1560 [03:28<10:18,  1.89it/s]"
     ]
    },
    {
     "name": "stdout",
     "output_type": "stream",
     "text": [
      "batch number 400, loss = 0.1473407511873035\n"
     ]
    },
    {
     "name": "stderr",
     "output_type": "stream",
     "text": [
      " 32%|███▏      | 492/1560 [04:24<09:19,  1.91it/s]"
     ]
    },
    {
     "name": "stdout",
     "output_type": "stream",
     "text": [
      "batch number 500, loss = 0.14685575023721964\n"
     ]
    },
    {
     "name": "stderr",
     "output_type": "stream",
     "text": [
      " 39%|███▊      | 601/1560 [05:22<08:27,  1.89it/s]"
     ]
    },
    {
     "name": "stdout",
     "output_type": "stream",
     "text": [
      "batch number 600, loss = 0.1261696167113259\n"
     ]
    },
    {
     "name": "stderr",
     "output_type": "stream",
     "text": [
      " 44%|████▍     | 686/1560 [06:09<07:52,  1.85it/s]"
     ]
    },
    {
     "name": "stdout",
     "output_type": "stream",
     "text": [
      "batch number 700, loss = 0.13656034091645455\n"
     ]
    },
    {
     "name": "stderr",
     "output_type": "stream",
     "text": [
      " 51%|█████     | 798/1560 [07:09<06:46,  1.88it/s]"
     ]
    },
    {
     "name": "stdout",
     "output_type": "stream",
     "text": [
      "batch number 800, loss = 0.11641888053786151\n"
     ]
    },
    {
     "name": "stderr",
     "output_type": "stream",
     "text": [
      " 58%|█████▊    | 900/1560 [08:04<05:50,  1.88it/s]"
     ]
    },
    {
     "name": "stdout",
     "output_type": "stream",
     "text": [
      "batch number 900, loss = 0.14983260030123732\n"
     ]
    },
    {
     "name": "stderr",
     "output_type": "stream",
     "text": [
      " 64%|██████▎   | 994/1560 [08:54<04:57,  1.90it/s]"
     ]
    },
    {
     "name": "stdout",
     "output_type": "stream",
     "text": [
      "batch number 1000, loss = 0.13704254814031497\n"
     ]
    },
    {
     "name": "stderr",
     "output_type": "stream",
     "text": [
      " 71%|███████   | 1101/1560 [09:52<04:06,  1.86it/s]"
     ]
    },
    {
     "name": "stdout",
     "output_type": "stream",
     "text": [
      "batch number 1100, loss = 0.1358627050254037\n"
     ]
    },
    {
     "name": "stderr",
     "output_type": "stream",
     "text": [
      " 77%|███████▋  | 1201/1560 [10:46<03:26,  1.74it/s]"
     ]
    },
    {
     "name": "stdout",
     "output_type": "stream",
     "text": [
      "batch number 1200, loss = 0.12082580733181465\n"
     ]
    },
    {
     "name": "stderr",
     "output_type": "stream",
     "text": [
      " 83%|████████▎ | 1293/1560 [11:35<02:23,  1.87it/s]"
     ]
    },
    {
     "name": "stdout",
     "output_type": "stream",
     "text": [
      "batch number 1300, loss = 0.11358033737962096\n"
     ]
    },
    {
     "name": "stderr",
     "output_type": "stream",
     "text": [
      " 83%|████████▎ | 1301/1560 [11:39<02:19,  1.86it/s]"
     ]
    },
    {
     "name": "stdout",
     "output_type": "stream",
     "text": [
      "batch number 1300, loss = 0.11358033737962096\n"
     ]
    },
    {
     "name": "stderr",
     "output_type": "stream",
     "text": [
      " 89%|████████▉ | 1396/1560 [12:30<01:26,  1.90it/s]"
     ]
    },
    {
     "name": "stdout",
     "output_type": "stream",
     "text": [
      "batch number 1400, loss = 0.11501009773908434\n"
     ]
    },
    {
     "name": "stderr",
     "output_type": "stream",
     "text": [
      " 96%|█████████▌| 1499/1560 [13:26<00:32,  1.88it/s]"
     ]
    },
    {
     "name": "stdout",
     "output_type": "stream",
     "text": [
      "batch number 1500, loss = 0.13379260636978155\n"
     ]
    },
    {
     "name": "stderr",
     "output_type": "stream",
     "text": [
      "100%|█████████▉| 1553/1560 [13:55<00:03,  1.95it/s]"
     ]
    },
    {
     "name": "stdout",
     "output_type": "stream",
     "text": [
      "_____\n",
      "epoch = 3\n"
     ]
    },
    {
     "name": "stderr",
     "output_type": "stream",
     "text": [
      "100%|██████████| 1560/1560 [13:58<00:00,  1.86it/s]\n",
      "  6%|▌         | 87/1560 [00:44<14:53,  1.65it/s]"
     ]
    },
    {
     "name": "stdout",
     "output_type": "stream",
     "text": [
      "batch number 100, loss = 0.1259638114427787\n"
     ]
    },
    {
     "name": "stderr",
     "output_type": "stream",
     "text": [
      " 13%|█▎        | 200/1560 [01:42<13:17,  1.71it/s]"
     ]
    },
    {
     "name": "stdout",
     "output_type": "stream",
     "text": [
      "batch number 200, loss = 0.1280626847016082\n"
     ]
    },
    {
     "name": "stderr",
     "output_type": "stream",
     "text": [
      " 13%|█▎        | 201/1560 [01:43<13:32,  1.67it/s]"
     ]
    },
    {
     "name": "stdout",
     "output_type": "stream",
     "text": [
      "batch number 200, loss = 0.1280626847016082\n"
     ]
    },
    {
     "name": "stderr",
     "output_type": "stream",
     "text": [
      " 19%|█▉        | 297/1560 [02:32<10:38,  1.98it/s]"
     ]
    },
    {
     "name": "stdout",
     "output_type": "stream",
     "text": [
      "batch number 300, loss = 0.14976576035816194\n"
     ]
    },
    {
     "name": "stderr",
     "output_type": "stream",
     "text": [
      " 26%|██▌       | 399/1560 [03:25<09:43,  1.99it/s]"
     ]
    },
    {
     "name": "stdout",
     "output_type": "stream",
     "text": [
      "batch number 400, loss = 0.1377332238360325\n"
     ]
    },
    {
     "name": "stderr",
     "output_type": "stream",
     "text": [
      " 31%|███▏      | 489/1560 [04:11<09:06,  1.96it/s]"
     ]
    },
    {
     "name": "stdout",
     "output_type": "stream",
     "text": [
      "batch number 500, loss = 0.1232185779164525\n"
     ]
    },
    {
     "name": "stderr",
     "output_type": "stream",
     "text": [
      " 38%|███▊      | 600/1560 [05:09<08:11,  1.95it/s]"
     ]
    },
    {
     "name": "stdout",
     "output_type": "stream",
     "text": [
      "batch number 600, loss = 0.10962602559112666\n"
     ]
    },
    {
     "name": "stderr",
     "output_type": "stream",
     "text": [
      " 45%|████▍     | 698/1560 [05:59<07:19,  1.96it/s]"
     ]
    },
    {
     "name": "stdout",
     "output_type": "stream",
     "text": [
      "batch number 700, loss = 0.11305170553866187\n"
     ]
    },
    {
     "name": "stderr",
     "output_type": "stream",
     "text": [
      " 51%|█████     | 799/1560 [06:52<06:17,  2.01it/s]"
     ]
    },
    {
     "name": "stdout",
     "output_type": "stream",
     "text": [
      "batch number 800, loss = 0.11296659595460673\n"
     ]
    },
    {
     "name": "stderr",
     "output_type": "stream",
     "text": [
      " 58%|█████▊    | 900/1560 [07:43<06:20,  1.74it/s]"
     ]
    },
    {
     "name": "stdout",
     "output_type": "stream",
     "text": [
      "batch number 900, loss = 0.13306157210352432\n"
     ]
    },
    {
     "name": "stderr",
     "output_type": "stream",
     "text": [
      " 64%|██████▍   | 999/1560 [08:33<04:44,  1.97it/s]"
     ]
    },
    {
     "name": "stdout",
     "output_type": "stream",
     "text": [
      "batch number 1000, loss = 0.1290403365089107\n"
     ]
    },
    {
     "name": "stderr",
     "output_type": "stream",
     "text": [
      " 70%|███████   | 1098/1560 [09:24<03:52,  1.99it/s]"
     ]
    },
    {
     "name": "stdout",
     "output_type": "stream",
     "text": [
      "batch number 1100, loss = 0.1178917698794898\n"
     ]
    },
    {
     "name": "stderr",
     "output_type": "stream",
     "text": [
      " 71%|███████   | 1101/1560 [09:25<03:48,  2.01it/s]"
     ]
    },
    {
     "name": "stdout",
     "output_type": "stream",
     "text": [
      "batch number 1100, loss = 0.1178917698794898\n"
     ]
    },
    {
     "name": "stderr",
     "output_type": "stream",
     "text": [
      " 77%|███████▋  | 1199/1560 [10:16<03:01,  1.99it/s]"
     ]
    },
    {
     "name": "stdout",
     "output_type": "stream",
     "text": [
      "batch number 1200, loss = 0.11582364708779845\n"
     ]
    },
    {
     "name": "stderr",
     "output_type": "stream",
     "text": [
      " 83%|████████▎ | 1300/1560 [11:08<02:08,  2.02it/s]"
     ]
    },
    {
     "name": "stdout",
     "output_type": "stream",
     "text": [
      "batch number 1300, loss = 0.11378826777969954\n"
     ]
    },
    {
     "name": "stderr",
     "output_type": "stream",
     "text": [
      " 89%|████████▉ | 1396/1560 [11:57<01:22,  2.00it/s]"
     ]
    },
    {
     "name": "stdout",
     "output_type": "stream",
     "text": [
      "batch number 1400, loss = 0.10742776784429077\n"
     ]
    },
    {
     "name": "stderr",
     "output_type": "stream",
     "text": [
      " 90%|████████▉ | 1401/1560 [12:00<01:18,  2.02it/s]"
     ]
    },
    {
     "name": "stdout",
     "output_type": "stream",
     "text": [
      "batch number 1400, loss = 0.10742776784429077\n"
     ]
    },
    {
     "name": "stderr",
     "output_type": "stream",
     "text": [
      " 96%|█████████▌| 1491/1560 [12:46<00:41,  1.66it/s]"
     ]
    },
    {
     "name": "stdout",
     "output_type": "stream",
     "text": [
      "batch number 1500, loss = 0.12192008096630047\n"
     ]
    },
    {
     "name": "stderr",
     "output_type": "stream",
     "text": [
      " 96%|█████████▌| 1501/1560 [12:51<00:29,  1.98it/s]"
     ]
    },
    {
     "name": "stdout",
     "output_type": "stream",
     "text": [
      "batch number 1500, loss = 0.12192008096630047\n"
     ]
    },
    {
     "name": "stderr",
     "output_type": "stream",
     "text": [
      "100%|██████████| 1560/1560 [13:21<00:00,  1.95it/s]\n"
     ]
    }
   ],
   "source": [
    "model.train()\n",
    "\n",
    "for epoch in range(1, n_epochs):\n",
    "    print(f\"_____\\nepoch = {epoch}\")\n",
    "    config['learning_rate'] /= 10\n",
    "    running_loss = 0\n",
    "    for i in tqdm(range(len(X_train) // batch_size - 2)):\n",
    "        x_batch = X_train[i * batch_size: (i + 1) * batch_size][:, np.newaxis]\n",
    "        y_class_labels = y_train[i * batch_size: (i + 1) * batch_size]\n",
    "\n",
    "        y_batch = np.zeros((batch_size, n_classes))\n",
    "        y_batch[range(batch_size), y_class_labels] = 1\n",
    "        \n",
    "        log_preds = model.updateOutput(x_batch)\n",
    "        loss = criterion.updateOutput(log_preds, y_batch)\n",
    "        \n",
    "        running_loss += loss\n",
    "        grad = criterion.updateGradInput(log_preds, y_batch)\n",
    "        model.backward(x_batch, grad)\n",
    "        adam_optimizer(model.getParameters(), model.getGradParameters(), config, state)\n",
    "\n",
    "        if not i % print_every and i:\n",
    "            print(f\"batch number {i}, loss = {running_loss / (print_every)}\")\n",
    "            running_loss = 0"
   ]
  },
  {
   "cell_type": "markdown",
   "metadata": {
    "cellId": "8dpio4km8a3dtjfuz1bk"
   },
   "source": [
    "Print here your accuracy on test set. It should be >97%. Don't forget to switch the network in 'evaluate' mode"
   ]
  },
  {
   "cell_type": "code",
   "execution_count": 89,
   "metadata": {
    "cellId": "1km0xx0pecvol153me15oi",
    "collapsed": true
   },
   "outputs": [
    {
     "name": "stderr",
     "output_type": "stream",
     "text": [
      "100%|██████████| 312/312 [01:07<00:00,  4.65it/s]\n",
      "/kernel/lib/python3.7/site-packages/ipystate/state.py:135: UserWarning: Skipping walk through <class 'list'> with size: 9984\n",
      "Use %enable_full_walk to serialize all variables correctly\n",
      "  {name: self._state[name] for name in self._state.varnames() if not self._skip_variable(name)}\n"
     ]
    }
   ],
   "source": [
    "model.evaluate()\n",
    "y_pred = []\n",
    "batch_size = 32\n",
    "for i in tqdm(range(0, len(X_test) - batch_size, batch_size)):\n",
    "    x_batch = X_test[i : i + batch_size][:, np.newaxis]   \n",
    "\n",
    "    x_batch = x_orig\n",
    "    y_pred += model.updateOutput(x_batch).tolist()"
   ]
  },
  {
   "cell_type": "code",
   "execution_count": 70,
   "metadata": {
    "cellId": "bef3z8u10bgrgqk9daqpq",
    "collapsed": true
   },
   "outputs": [
    {
     "name": "stderr",
     "output_type": "stream",
     "text": [
      "/kernel/lib/python3.7/site-packages/ipystate/state.py:135: UserWarning: Skipping walk through <class 'list'> with size: 10000\n",
      "Use %enable_full_walk to serialize all variables correctly\n",
      "  {name: self._state[name] for name in self._state.varnames() if not self._skip_variable(name)}\n"
     ]
    }
   ],
   "source": [
    "y_pred += model.updateOutput(X_test[len(y_pred):][:, np.newaxis]).tolist()"
   ]
  },
  {
   "cell_type": "code",
   "execution_count": 73,
   "metadata": {
    "cellId": "wbkic3drxcb8o194c581vd"
   },
   "outputs": [
    {
     "name": "stderr",
     "output_type": "stream",
     "text": [
      "/kernel/lib/python3.7/site-packages/ipystate/state.py:135: UserWarning: Skipping walk through <class 'list'> with size: 10000\n",
      "Use %enable_full_walk to serialize all variables correctly\n",
      "  {name: self._state[name] for name in self._state.varnames() if not self._skip_variable(name)}\n"
     ]
    },
    {
     "data": {
      "text/plain": [
       "0.975"
      ]
     },
     "metadata": {},
     "output_type": "display_data"
    }
   ],
   "source": [
    "accuracy_score(y_test, np.argmax(y_pred, axis=1))"
   ]
  },
  {
   "cell_type": "code",
   "execution_count": null,
   "metadata": {
    "cellId": "wy0ht6o7qxai3e5s5hh1jc"
   },
   "outputs": [],
   "source": [
    " "
   ]
  }
 ],
 "metadata": {
  "kernelspec": {
   "display_name": "Python 3",
   "language": "python",
   "name": "python3"
  },
  "language_info": {
   "codemirror_mode": {
    "name": "ipython",
    "version": 3
   },
   "file_extension": ".py",
   "mimetype": "text/x-python",
   "name": "python",
   "nbconvert_exporter": "python",
   "pygments_lexer": "ipython3",
   "version": "3.7.9"
  },
  "notebookId": "bf764bc8-783d-47ec-accc-2d02ec80a58d"
 },
 "nbformat": 4,
 "nbformat_minor": 4
}
